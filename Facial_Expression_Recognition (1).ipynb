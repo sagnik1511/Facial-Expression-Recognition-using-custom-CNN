{
  "nbformat": 4,
  "nbformat_minor": 0,
  "metadata": {
    "colab": {
      "name": "Facial_Expression_Recognition.ipynb",
      "provenance": [],
      "collapsed_sections": []
    },
    "kernelspec": {
      "name": "python3",
      "display_name": "Python 3"
    },
    "accelerator": "GPU"
  },
  "cells": [
    {
      "cell_type": "markdown",
      "metadata": {
        "id": "jO8YbDzdxZz0"
      },
      "source": [
        "Or if you are using **Google Collab** The **first work**  is to change the **runtime type to TPU or GPU** for **faster** competion of the project.\r\n",
        "You can do it in following steps :\r\n",
        "\r\n",
        "        Click on Runtime --> Change Runtime Type --> Change it to GPU or TPU \r\n",
        "\r\n",
        "# Getting the data :\r\n",
        "      There are 3 steps -\r\n",
        "\r\n",
        "                1. Connectiong with kaggle\r\n",
        "                2. Downloading data\r\n",
        "                3. Unzipping and others\r\n",
        "\r\n",
        "As we are using a **kaggle dataset** to train and perdict we have to use a *docker* to connect kaggle with google collab.\r\n",
        "\r\n",
        "So , we have to upload the API token taken from kaggle ( maybe named as kaggle.json) on the google collab notebook.\r\n",
        "and then we have to repeat this 4 lines of code and then we can take the whole data into the collab.\r\n",
        "\r\n",
        "* This lines are used for -\r\n",
        "            1. Intsalling the docker.\r\n",
        "            2. Connecting it with kaggle directory.\r\n",
        "            3. Connecting the unique json for singular accessibility.\r\n",
        "            4. Securing access on the notebook.\r\n",
        "\r\n",
        "As we have linked the kaggle directory we can copy and paste any dataset's API command in the command lines. ( makes sure to write a '!' before pasting the command)\r\n",
        "\r\n",
        "Now the data will be downloaded from kaggle to collab without getting a bypass.\r\n",
        "\r\n",
        " But it is in a .zip file . So we have to extract the actual file stored in folders."
      ]
    },
    {
      "cell_type": "code",
      "metadata": {
        "id": "pPE3nA2UOJUG"
      },
      "source": [
        "!pip install -q kaggle\r\n",
        "\r\n",
        "!mkdir -p ~/.kaggle\r\n",
        "                                  \r\n",
        "!cp kaggle.json ~/.kaggle/      #   (!cp [   API token file name   ] ~/.kaggle/)\r\n",
        "\r\n",
        "!chmod 600 ~/.kaggle/kaggle.json"
      ],
      "execution_count": 1,
      "outputs": []
    },
    {
      "cell_type": "code",
      "metadata": {
        "colab": {
          "base_uri": "https://localhost:8080/"
        },
        "id": "FlfuaTqIfWmv",
        "outputId": "49865ce5-83fb-4eac-be5b-a46937b5a636"
      },
      "source": [
        "!kaggle datasets download -d ashishpatel26/facial-expression-recognitionferchallenge"
      ],
      "execution_count": 2,
      "outputs": [
        {
          "output_type": "stream",
          "text": [
            "Downloading facial-expression-recognitionferchallenge.zip to /content\n",
            " 92% 89.0M/96.6M [00:01<00:00, 61.6MB/s]\n",
            "100% 96.6M/96.6M [00:01<00:00, 66.8MB/s]\n"
          ],
          "name": "stdout"
        }
      ]
    },
    {
      "cell_type": "code",
      "metadata": {
        "id": "UuTLzrKkfrmn"
      },
      "source": [
        "from zipfile import ZipFile\r\n",
        "zf = ZipFile('facial-expression-recognitionferchallenge.zip', 'r')\r\n",
        "zf.extractall('/content')\r\n",
        "zf.close()"
      ],
      "execution_count": 3,
      "outputs": []
    },
    {
      "cell_type": "code",
      "metadata": {
        "colab": {
          "base_uri": "https://localhost:8080/"
        },
        "id": "8yyyFPaMgvq3",
        "outputId": "8286c3ce-802c-47c3-8def-f81b66ac8d46"
      },
      "source": [
        "# for data processing\r\n",
        "\r\n",
        "import matplotlib.pyplot as plt\r\n",
        "import matplotlib.image as mpimg\r\n",
        "import seaborn as sns\r\n",
        "import numpy as np\r\n",
        "import pandas as pd\r\n",
        "import re\r\n",
        "import os\r\n",
        "import glob\r\n",
        "import cv2\r\n",
        "\r\n",
        "# for data pipeline --------------------\r\n",
        "\r\n",
        "from sklearn.model_selection import train_test_split\r\n",
        "from sklearn.metrics import*\r\n",
        "import matplotlib.pyplot as plt\r\n",
        "from sklearn.model_selection import*\r\n",
        "from sklearn.preprocessing import StandardScaler\r\n",
        "from sklearn.model_selection import train_test_split\r\n",
        "from sklearn.preprocessing import StandardScaler\r\n",
        "from sklearn.feature_selection import VarianceThreshold\r\n",
        "from sklearn.pipeline import make_pipeline\r\n",
        "from sklearn.feature_extraction.text import TfidfVectorizer\r\n",
        "from sklearn.decomposition import TruncatedSVD\r\n",
        "from skimage import data, color\r\n",
        "from skimage.transform import rescale, resize, downscale_local_mean\r\n",
        "import matplotlib.image as mpimg\r\n",
        "\r\n",
        "# for prediction (machine learning models) ------------------------\r\n",
        "\r\n",
        "from sklearn.linear_model import*\r\n",
        "from sklearn.preprocessing import*\r\n",
        "from sklearn.ensemble import*\r\n",
        "from sklearn.neighbors import*\r\n",
        "from sklearn import svm\r\n",
        "from sklearn.naive_bayes import*\r\n",
        "import xgboost as xgb\r\n",
        "\r\n",
        "#deep learning libraries\r\n",
        "\r\n",
        "import tensorflow as tf\r\n",
        "from tensorflow.keras import Sequential\r\n",
        "\r\n",
        "from tensorflow.keras.layers import Dense,Conv2D,MaxPool2D,Flatten,Dropout,BatchNormalization\r\n",
        "from tensorflow.keras.optimizers import Adam\r\n",
        "print(tf.__version__)\r\n",
        "\r\n",
        "# for confusion matrix plotting\r\n",
        "from mlxtend.plotting import plot_confusion_matrix\r\n",
        "from sklearn.metrics import multilabel_confusion_matrix,confusion_matrix"
      ],
      "execution_count": 4,
      "outputs": [
        {
          "output_type": "stream",
          "text": [
            "2.4.0\n"
          ],
          "name": "stdout"
        }
      ]
    },
    {
      "cell_type": "code",
      "metadata": {
        "colab": {
          "base_uri": "https://localhost:8080/",
          "height": 204
        },
        "id": "fGA5SoFbgPOf",
        "outputId": "c72df9b6-b883-41b0-b599-df43e64a6a05"
      },
      "source": [
        "df=pd.read_csv('fer2013/fer2013/fer2013.csv')\r\n",
        "df.head()"
      ],
      "execution_count": 5,
      "outputs": [
        {
          "output_type": "execute_result",
          "data": {
            "text/html": [
              "<div>\n",
              "<style scoped>\n",
              "    .dataframe tbody tr th:only-of-type {\n",
              "        vertical-align: middle;\n",
              "    }\n",
              "\n",
              "    .dataframe tbody tr th {\n",
              "        vertical-align: top;\n",
              "    }\n",
              "\n",
              "    .dataframe thead th {\n",
              "        text-align: right;\n",
              "    }\n",
              "</style>\n",
              "<table border=\"1\" class=\"dataframe\">\n",
              "  <thead>\n",
              "    <tr style=\"text-align: right;\">\n",
              "      <th></th>\n",
              "      <th>emotion</th>\n",
              "      <th>pixels</th>\n",
              "      <th>Usage</th>\n",
              "    </tr>\n",
              "  </thead>\n",
              "  <tbody>\n",
              "    <tr>\n",
              "      <th>0</th>\n",
              "      <td>0</td>\n",
              "      <td>70 80 82 72 58 58 60 63 54 58 60 48 89 115 121...</td>\n",
              "      <td>Training</td>\n",
              "    </tr>\n",
              "    <tr>\n",
              "      <th>1</th>\n",
              "      <td>0</td>\n",
              "      <td>151 150 147 155 148 133 111 140 170 174 182 15...</td>\n",
              "      <td>Training</td>\n",
              "    </tr>\n",
              "    <tr>\n",
              "      <th>2</th>\n",
              "      <td>2</td>\n",
              "      <td>231 212 156 164 174 138 161 173 182 200 106 38...</td>\n",
              "      <td>Training</td>\n",
              "    </tr>\n",
              "    <tr>\n",
              "      <th>3</th>\n",
              "      <td>4</td>\n",
              "      <td>24 32 36 30 32 23 19 20 30 41 21 22 32 34 21 1...</td>\n",
              "      <td>Training</td>\n",
              "    </tr>\n",
              "    <tr>\n",
              "      <th>4</th>\n",
              "      <td>6</td>\n",
              "      <td>4 0 0 0 0 0 0 0 0 0 0 0 3 15 23 28 48 50 58 84...</td>\n",
              "      <td>Training</td>\n",
              "    </tr>\n",
              "  </tbody>\n",
              "</table>\n",
              "</div>"
            ],
            "text/plain": [
              "   emotion                                             pixels     Usage\n",
              "0        0  70 80 82 72 58 58 60 63 54 58 60 48 89 115 121...  Training\n",
              "1        0  151 150 147 155 148 133 111 140 170 174 182 15...  Training\n",
              "2        2  231 212 156 164 174 138 161 173 182 200 106 38...  Training\n",
              "3        4  24 32 36 30 32 23 19 20 30 41 21 22 32 34 21 1...  Training\n",
              "4        6  4 0 0 0 0 0 0 0 0 0 0 0 3 15 23 28 48 50 58 84...  Training"
            ]
          },
          "metadata": {
            "tags": []
          },
          "execution_count": 5
        }
      ]
    },
    {
      "cell_type": "code",
      "metadata": {
        "id": "3pyPKtQxg7mH"
      },
      "source": [
        "x=df['pixels']"
      ],
      "execution_count": 6,
      "outputs": []
    },
    {
      "cell_type": "code",
      "metadata": {
        "id": "AqVz90npiNuo"
      },
      "source": [
        "arr=[]\r\n",
        "for i in range(len(x)):\r\n",
        "  p=list(x[i].split())\r\n",
        "  for j in range(len(p)):\r\n",
        "    p[j]=int(p[j])\r\n",
        "    p[j]=p[j]/255.0\r\n",
        "  arr.append(p)"
      ],
      "execution_count": 7,
      "outputs": []
    },
    {
      "cell_type": "code",
      "metadata": {
        "colab": {
          "base_uri": "https://localhost:8080/",
          "height": 253
        },
        "id": "nE32a-x4ljx4",
        "outputId": "d675876e-81dc-4f7c-cb74-7afdd787abd9"
      },
      "source": [
        "arr=pd.DataFrame(arr)\r\n",
        "arr.head()"
      ],
      "execution_count": 8,
      "outputs": [
        {
          "output_type": "execute_result",
          "data": {
            "text/html": [
              "<div>\n",
              "<style scoped>\n",
              "    .dataframe tbody tr th:only-of-type {\n",
              "        vertical-align: middle;\n",
              "    }\n",
              "\n",
              "    .dataframe tbody tr th {\n",
              "        vertical-align: top;\n",
              "    }\n",
              "\n",
              "    .dataframe thead th {\n",
              "        text-align: right;\n",
              "    }\n",
              "</style>\n",
              "<table border=\"1\" class=\"dataframe\">\n",
              "  <thead>\n",
              "    <tr style=\"text-align: right;\">\n",
              "      <th></th>\n",
              "      <th>0</th>\n",
              "      <th>1</th>\n",
              "      <th>2</th>\n",
              "      <th>3</th>\n",
              "      <th>4</th>\n",
              "      <th>5</th>\n",
              "      <th>6</th>\n",
              "      <th>7</th>\n",
              "      <th>8</th>\n",
              "      <th>9</th>\n",
              "      <th>10</th>\n",
              "      <th>11</th>\n",
              "      <th>12</th>\n",
              "      <th>13</th>\n",
              "      <th>14</th>\n",
              "      <th>15</th>\n",
              "      <th>16</th>\n",
              "      <th>17</th>\n",
              "      <th>18</th>\n",
              "      <th>19</th>\n",
              "      <th>20</th>\n",
              "      <th>21</th>\n",
              "      <th>22</th>\n",
              "      <th>23</th>\n",
              "      <th>24</th>\n",
              "      <th>25</th>\n",
              "      <th>26</th>\n",
              "      <th>27</th>\n",
              "      <th>28</th>\n",
              "      <th>29</th>\n",
              "      <th>30</th>\n",
              "      <th>31</th>\n",
              "      <th>32</th>\n",
              "      <th>33</th>\n",
              "      <th>34</th>\n",
              "      <th>35</th>\n",
              "      <th>36</th>\n",
              "      <th>37</th>\n",
              "      <th>38</th>\n",
              "      <th>39</th>\n",
              "      <th>...</th>\n",
              "      <th>2264</th>\n",
              "      <th>2265</th>\n",
              "      <th>2266</th>\n",
              "      <th>2267</th>\n",
              "      <th>2268</th>\n",
              "      <th>2269</th>\n",
              "      <th>2270</th>\n",
              "      <th>2271</th>\n",
              "      <th>2272</th>\n",
              "      <th>2273</th>\n",
              "      <th>2274</th>\n",
              "      <th>2275</th>\n",
              "      <th>2276</th>\n",
              "      <th>2277</th>\n",
              "      <th>2278</th>\n",
              "      <th>2279</th>\n",
              "      <th>2280</th>\n",
              "      <th>2281</th>\n",
              "      <th>2282</th>\n",
              "      <th>2283</th>\n",
              "      <th>2284</th>\n",
              "      <th>2285</th>\n",
              "      <th>2286</th>\n",
              "      <th>2287</th>\n",
              "      <th>2288</th>\n",
              "      <th>2289</th>\n",
              "      <th>2290</th>\n",
              "      <th>2291</th>\n",
              "      <th>2292</th>\n",
              "      <th>2293</th>\n",
              "      <th>2294</th>\n",
              "      <th>2295</th>\n",
              "      <th>2296</th>\n",
              "      <th>2297</th>\n",
              "      <th>2298</th>\n",
              "      <th>2299</th>\n",
              "      <th>2300</th>\n",
              "      <th>2301</th>\n",
              "      <th>2302</th>\n",
              "      <th>2303</th>\n",
              "    </tr>\n",
              "  </thead>\n",
              "  <tbody>\n",
              "    <tr>\n",
              "      <th>0</th>\n",
              "      <td>0.274510</td>\n",
              "      <td>0.313725</td>\n",
              "      <td>0.321569</td>\n",
              "      <td>0.282353</td>\n",
              "      <td>0.227451</td>\n",
              "      <td>0.227451</td>\n",
              "      <td>0.235294</td>\n",
              "      <td>0.247059</td>\n",
              "      <td>0.211765</td>\n",
              "      <td>0.227451</td>\n",
              "      <td>0.235294</td>\n",
              "      <td>0.188235</td>\n",
              "      <td>0.349020</td>\n",
              "      <td>0.450980</td>\n",
              "      <td>0.474510</td>\n",
              "      <td>0.466667</td>\n",
              "      <td>0.450980</td>\n",
              "      <td>0.431373</td>\n",
              "      <td>0.384314</td>\n",
              "      <td>0.356863</td>\n",
              "      <td>0.329412</td>\n",
              "      <td>0.329412</td>\n",
              "      <td>0.352941</td>\n",
              "      <td>0.388235</td>\n",
              "      <td>0.431373</td>\n",
              "      <td>0.494118</td>\n",
              "      <td>0.560784</td>\n",
              "      <td>0.600000</td>\n",
              "      <td>0.619608</td>\n",
              "      <td>0.670588</td>\n",
              "      <td>0.662745</td>\n",
              "      <td>0.674510</td>\n",
              "      <td>0.662745</td>\n",
              "      <td>0.647059</td>\n",
              "      <td>0.505882</td>\n",
              "      <td>0.431373</td>\n",
              "      <td>0.443137</td>\n",
              "      <td>0.419608</td>\n",
              "      <td>0.372549</td>\n",
              "      <td>0.309804</td>\n",
              "      <td>...</td>\n",
              "      <td>0.078431</td>\n",
              "      <td>0.121569</td>\n",
              "      <td>0.156863</td>\n",
              "      <td>0.180392</td>\n",
              "      <td>0.254902</td>\n",
              "      <td>0.345098</td>\n",
              "      <td>0.423529</td>\n",
              "      <td>0.431373</td>\n",
              "      <td>0.490196</td>\n",
              "      <td>0.584314</td>\n",
              "      <td>0.615686</td>\n",
              "      <td>0.600000</td>\n",
              "      <td>0.635294</td>\n",
              "      <td>0.643137</td>\n",
              "      <td>0.619608</td>\n",
              "      <td>0.623529</td>\n",
              "      <td>0.603922</td>\n",
              "      <td>0.549020</td>\n",
              "      <td>0.305882</td>\n",
              "      <td>0.082353</td>\n",
              "      <td>0.043137</td>\n",
              "      <td>0.239216</td>\n",
              "      <td>0.564706</td>\n",
              "      <td>0.658824</td>\n",
              "      <td>0.678431</td>\n",
              "      <td>0.615686</td>\n",
              "      <td>0.541176</td>\n",
              "      <td>0.588235</td>\n",
              "      <td>0.580392</td>\n",
              "      <td>0.517647</td>\n",
              "      <td>0.623529</td>\n",
              "      <td>0.713725</td>\n",
              "      <td>0.717647</td>\n",
              "      <td>0.533333</td>\n",
              "      <td>0.415686</td>\n",
              "      <td>0.454902</td>\n",
              "      <td>0.372549</td>\n",
              "      <td>0.415686</td>\n",
              "      <td>0.427451</td>\n",
              "      <td>0.321569</td>\n",
              "    </tr>\n",
              "    <tr>\n",
              "      <th>1</th>\n",
              "      <td>0.592157</td>\n",
              "      <td>0.588235</td>\n",
              "      <td>0.576471</td>\n",
              "      <td>0.607843</td>\n",
              "      <td>0.580392</td>\n",
              "      <td>0.521569</td>\n",
              "      <td>0.435294</td>\n",
              "      <td>0.549020</td>\n",
              "      <td>0.666667</td>\n",
              "      <td>0.682353</td>\n",
              "      <td>0.713725</td>\n",
              "      <td>0.603922</td>\n",
              "      <td>0.600000</td>\n",
              "      <td>0.643137</td>\n",
              "      <td>0.678431</td>\n",
              "      <td>0.698039</td>\n",
              "      <td>0.725490</td>\n",
              "      <td>0.725490</td>\n",
              "      <td>0.741176</td>\n",
              "      <td>0.733333</td>\n",
              "      <td>0.729412</td>\n",
              "      <td>0.756863</td>\n",
              "      <td>0.760784</td>\n",
              "      <td>0.725490</td>\n",
              "      <td>0.717647</td>\n",
              "      <td>0.729412</td>\n",
              "      <td>0.705882</td>\n",
              "      <td>0.678431</td>\n",
              "      <td>0.650980</td>\n",
              "      <td>0.631373</td>\n",
              "      <td>0.576471</td>\n",
              "      <td>0.521569</td>\n",
              "      <td>0.674510</td>\n",
              "      <td>0.592157</td>\n",
              "      <td>0.447059</td>\n",
              "      <td>0.631373</td>\n",
              "      <td>0.631373</td>\n",
              "      <td>0.572549</td>\n",
              "      <td>0.513725</td>\n",
              "      <td>0.407843</td>\n",
              "      <td>...</td>\n",
              "      <td>0.588235</td>\n",
              "      <td>0.505882</td>\n",
              "      <td>0.560784</td>\n",
              "      <td>0.529412</td>\n",
              "      <td>0.450980</td>\n",
              "      <td>0.400000</td>\n",
              "      <td>0.435294</td>\n",
              "      <td>0.486275</td>\n",
              "      <td>0.439216</td>\n",
              "      <td>0.427451</td>\n",
              "      <td>0.517647</td>\n",
              "      <td>0.572549</td>\n",
              "      <td>0.529412</td>\n",
              "      <td>0.584314</td>\n",
              "      <td>0.580392</td>\n",
              "      <td>0.560784</td>\n",
              "      <td>0.639216</td>\n",
              "      <td>0.611765</td>\n",
              "      <td>0.623529</td>\n",
              "      <td>0.588235</td>\n",
              "      <td>0.545098</td>\n",
              "      <td>0.501961</td>\n",
              "      <td>0.454902</td>\n",
              "      <td>0.490196</td>\n",
              "      <td>0.521569</td>\n",
              "      <td>0.427451</td>\n",
              "      <td>0.509804</td>\n",
              "      <td>0.576471</td>\n",
              "      <td>0.509804</td>\n",
              "      <td>0.474510</td>\n",
              "      <td>0.411765</td>\n",
              "      <td>0.423529</td>\n",
              "      <td>0.372549</td>\n",
              "      <td>0.423529</td>\n",
              "      <td>0.400000</td>\n",
              "      <td>0.262745</td>\n",
              "      <td>0.670588</td>\n",
              "      <td>0.756863</td>\n",
              "      <td>0.717647</td>\n",
              "      <td>0.721569</td>\n",
              "    </tr>\n",
              "    <tr>\n",
              "      <th>2</th>\n",
              "      <td>0.905882</td>\n",
              "      <td>0.831373</td>\n",
              "      <td>0.611765</td>\n",
              "      <td>0.643137</td>\n",
              "      <td>0.682353</td>\n",
              "      <td>0.541176</td>\n",
              "      <td>0.631373</td>\n",
              "      <td>0.678431</td>\n",
              "      <td>0.713725</td>\n",
              "      <td>0.784314</td>\n",
              "      <td>0.415686</td>\n",
              "      <td>0.149020</td>\n",
              "      <td>0.152941</td>\n",
              "      <td>0.290196</td>\n",
              "      <td>0.541176</td>\n",
              "      <td>0.631373</td>\n",
              "      <td>0.643137</td>\n",
              "      <td>0.701961</td>\n",
              "      <td>0.745098</td>\n",
              "      <td>0.788235</td>\n",
              "      <td>0.823529</td>\n",
              "      <td>0.847059</td>\n",
              "      <td>0.862745</td>\n",
              "      <td>0.878431</td>\n",
              "      <td>0.870588</td>\n",
              "      <td>0.854902</td>\n",
              "      <td>0.847059</td>\n",
              "      <td>0.835294</td>\n",
              "      <td>0.850980</td>\n",
              "      <td>0.862745</td>\n",
              "      <td>0.862745</td>\n",
              "      <td>0.854902</td>\n",
              "      <td>0.850980</td>\n",
              "      <td>0.831373</td>\n",
              "      <td>0.682353</td>\n",
              "      <td>0.627451</td>\n",
              "      <td>0.635294</td>\n",
              "      <td>0.627451</td>\n",
              "      <td>0.545098</td>\n",
              "      <td>0.529412</td>\n",
              "      <td>...</td>\n",
              "      <td>0.882353</td>\n",
              "      <td>0.862745</td>\n",
              "      <td>0.843137</td>\n",
              "      <td>0.811765</td>\n",
              "      <td>0.780392</td>\n",
              "      <td>0.654902</td>\n",
              "      <td>0.423529</td>\n",
              "      <td>0.592157</td>\n",
              "      <td>0.478431</td>\n",
              "      <td>0.345098</td>\n",
              "      <td>0.278431</td>\n",
              "      <td>0.329412</td>\n",
              "      <td>0.470588</td>\n",
              "      <td>0.498039</td>\n",
              "      <td>0.411765</td>\n",
              "      <td>0.298039</td>\n",
              "      <td>0.278431</td>\n",
              "      <td>0.305882</td>\n",
              "      <td>0.352941</td>\n",
              "      <td>0.415686</td>\n",
              "      <td>0.482353</td>\n",
              "      <td>0.572549</td>\n",
              "      <td>0.607843</td>\n",
              "      <td>0.580392</td>\n",
              "      <td>0.509804</td>\n",
              "      <td>0.552941</td>\n",
              "      <td>0.466667</td>\n",
              "      <td>0.270588</td>\n",
              "      <td>0.211765</td>\n",
              "      <td>0.349020</td>\n",
              "      <td>0.407843</td>\n",
              "      <td>0.541176</td>\n",
              "      <td>0.596078</td>\n",
              "      <td>0.478431</td>\n",
              "      <td>0.447059</td>\n",
              "      <td>0.396078</td>\n",
              "      <td>0.380392</td>\n",
              "      <td>0.345098</td>\n",
              "      <td>0.431373</td>\n",
              "      <td>0.596078</td>\n",
              "    </tr>\n",
              "    <tr>\n",
              "      <th>3</th>\n",
              "      <td>0.094118</td>\n",
              "      <td>0.125490</td>\n",
              "      <td>0.141176</td>\n",
              "      <td>0.117647</td>\n",
              "      <td>0.125490</td>\n",
              "      <td>0.090196</td>\n",
              "      <td>0.074510</td>\n",
              "      <td>0.078431</td>\n",
              "      <td>0.117647</td>\n",
              "      <td>0.160784</td>\n",
              "      <td>0.082353</td>\n",
              "      <td>0.086275</td>\n",
              "      <td>0.125490</td>\n",
              "      <td>0.133333</td>\n",
              "      <td>0.082353</td>\n",
              "      <td>0.074510</td>\n",
              "      <td>0.168627</td>\n",
              "      <td>0.203922</td>\n",
              "      <td>0.050980</td>\n",
              "      <td>0.101961</td>\n",
              "      <td>0.156863</td>\n",
              "      <td>0.231373</td>\n",
              "      <td>0.254902</td>\n",
              "      <td>0.047059</td>\n",
              "      <td>0.078431</td>\n",
              "      <td>0.247059</td>\n",
              "      <td>0.388235</td>\n",
              "      <td>0.384314</td>\n",
              "      <td>0.384314</td>\n",
              "      <td>0.435294</td>\n",
              "      <td>0.294118</td>\n",
              "      <td>0.243137</td>\n",
              "      <td>0.160784</td>\n",
              "      <td>0.286275</td>\n",
              "      <td>0.462745</td>\n",
              "      <td>0.549020</td>\n",
              "      <td>0.752941</td>\n",
              "      <td>0.729412</td>\n",
              "      <td>0.733333</td>\n",
              "      <td>0.737255</td>\n",
              "      <td>...</td>\n",
              "      <td>0.486275</td>\n",
              "      <td>0.588235</td>\n",
              "      <td>0.631373</td>\n",
              "      <td>0.654902</td>\n",
              "      <td>0.662745</td>\n",
              "      <td>0.654902</td>\n",
              "      <td>0.635294</td>\n",
              "      <td>0.643137</td>\n",
              "      <td>0.662745</td>\n",
              "      <td>0.709804</td>\n",
              "      <td>0.674510</td>\n",
              "      <td>0.658824</td>\n",
              "      <td>0.662745</td>\n",
              "      <td>0.666667</td>\n",
              "      <td>0.682353</td>\n",
              "      <td>0.701961</td>\n",
              "      <td>0.705882</td>\n",
              "      <td>0.713725</td>\n",
              "      <td>0.768627</td>\n",
              "      <td>0.815686</td>\n",
              "      <td>0.886275</td>\n",
              "      <td>0.901961</td>\n",
              "      <td>0.549020</td>\n",
              "      <td>0.443137</td>\n",
              "      <td>0.447059</td>\n",
              "      <td>0.490196</td>\n",
              "      <td>0.529412</td>\n",
              "      <td>0.552941</td>\n",
              "      <td>0.674510</td>\n",
              "      <td>0.839216</td>\n",
              "      <td>0.682353</td>\n",
              "      <td>0.494118</td>\n",
              "      <td>0.517647</td>\n",
              "      <td>0.517647</td>\n",
              "      <td>0.521569</td>\n",
              "      <td>0.533333</td>\n",
              "      <td>0.545098</td>\n",
              "      <td>0.556863</td>\n",
              "      <td>0.560784</td>\n",
              "      <td>0.556863</td>\n",
              "    </tr>\n",
              "    <tr>\n",
              "      <th>4</th>\n",
              "      <td>0.015686</td>\n",
              "      <td>0.000000</td>\n",
              "      <td>0.000000</td>\n",
              "      <td>0.000000</td>\n",
              "      <td>0.000000</td>\n",
              "      <td>0.000000</td>\n",
              "      <td>0.000000</td>\n",
              "      <td>0.000000</td>\n",
              "      <td>0.000000</td>\n",
              "      <td>0.000000</td>\n",
              "      <td>0.000000</td>\n",
              "      <td>0.000000</td>\n",
              "      <td>0.011765</td>\n",
              "      <td>0.058824</td>\n",
              "      <td>0.090196</td>\n",
              "      <td>0.109804</td>\n",
              "      <td>0.188235</td>\n",
              "      <td>0.196078</td>\n",
              "      <td>0.227451</td>\n",
              "      <td>0.329412</td>\n",
              "      <td>0.450980</td>\n",
              "      <td>0.498039</td>\n",
              "      <td>0.537255</td>\n",
              "      <td>0.556863</td>\n",
              "      <td>0.592157</td>\n",
              "      <td>0.611765</td>\n",
              "      <td>0.607843</td>\n",
              "      <td>0.584314</td>\n",
              "      <td>0.600000</td>\n",
              "      <td>0.596078</td>\n",
              "      <td>0.615686</td>\n",
              "      <td>0.627451</td>\n",
              "      <td>0.635294</td>\n",
              "      <td>0.623529</td>\n",
              "      <td>0.568627</td>\n",
              "      <td>0.474510</td>\n",
              "      <td>0.325490</td>\n",
              "      <td>0.227451</td>\n",
              "      <td>0.188235</td>\n",
              "      <td>0.149020</td>\n",
              "      <td>...</td>\n",
              "      <td>0.070588</td>\n",
              "      <td>0.105882</td>\n",
              "      <td>0.074510</td>\n",
              "      <td>0.050980</td>\n",
              "      <td>0.043137</td>\n",
              "      <td>0.086275</td>\n",
              "      <td>0.145098</td>\n",
              "      <td>0.188235</td>\n",
              "      <td>0.215686</td>\n",
              "      <td>0.262745</td>\n",
              "      <td>0.345098</td>\n",
              "      <td>0.372549</td>\n",
              "      <td>0.439216</td>\n",
              "      <td>0.462745</td>\n",
              "      <td>0.482353</td>\n",
              "      <td>0.552941</td>\n",
              "      <td>0.615686</td>\n",
              "      <td>0.682353</td>\n",
              "      <td>0.709804</td>\n",
              "      <td>0.725490</td>\n",
              "      <td>0.721569</td>\n",
              "      <td>0.701961</td>\n",
              "      <td>0.690196</td>\n",
              "      <td>0.670588</td>\n",
              "      <td>0.607843</td>\n",
              "      <td>0.501961</td>\n",
              "      <td>0.411765</td>\n",
              "      <td>0.039216</td>\n",
              "      <td>0.000000</td>\n",
              "      <td>0.000000</td>\n",
              "      <td>0.047059</td>\n",
              "      <td>0.133333</td>\n",
              "      <td>0.121569</td>\n",
              "      <td>0.121569</td>\n",
              "      <td>0.121569</td>\n",
              "      <td>0.105882</td>\n",
              "      <td>0.121569</td>\n",
              "      <td>0.117647</td>\n",
              "      <td>0.113725</td>\n",
              "      <td>0.117647</td>\n",
              "    </tr>\n",
              "  </tbody>\n",
              "</table>\n",
              "<p>5 rows × 2304 columns</p>\n",
              "</div>"
            ],
            "text/plain": [
              "       0         1         2     ...      2301      2302      2303\n",
              "0  0.274510  0.313725  0.321569  ...  0.415686  0.427451  0.321569\n",
              "1  0.592157  0.588235  0.576471  ...  0.756863  0.717647  0.721569\n",
              "2  0.905882  0.831373  0.611765  ...  0.345098  0.431373  0.596078\n",
              "3  0.094118  0.125490  0.141176  ...  0.556863  0.560784  0.556863\n",
              "4  0.015686  0.000000  0.000000  ...  0.117647  0.113725  0.117647\n",
              "\n",
              "[5 rows x 2304 columns]"
            ]
          },
          "metadata": {
            "tags": []
          },
          "execution_count": 8
        }
      ]
    },
    {
      "cell_type": "code",
      "metadata": {
        "colab": {
          "base_uri": "https://localhost:8080/",
          "height": 284
        },
        "id": "c40kf5BXm9nM",
        "outputId": "8f1b5b19-8d0f-4fbd-830d-3a566c9e0d44"
      },
      "source": [
        "xx=arr.head(1)\r\n",
        "xx=xx.to_numpy()\r\n",
        "xx=xx.reshape(48,48)\r\n",
        "plt.imshow(xx)"
      ],
      "execution_count": 9,
      "outputs": [
        {
          "output_type": "execute_result",
          "data": {
            "text/plain": [
              "<matplotlib.image.AxesImage at 0x7f4af75f6ba8>"
            ]
          },
          "metadata": {
            "tags": []
          },
          "execution_count": 9
        },
        {
          "output_type": "display_data",
          "data": {
            "image/png": "[encoded data removed]",
            "text/plain": [
              "<Figure size 432x288 with 1 Axes>"
            ]
          },
          "metadata": {
            "tags": [],
            "needs_background": "light"
          }
        }
      ]
    },
    {
      "cell_type": "code",
      "metadata": {
        "id": "YQ3AayWu3ipp"
      },
      "source": [
        "df.drop('pixels',1,inplace=True)"
      ],
      "execution_count": 10,
      "outputs": []
    },
    {
      "cell_type": "code",
      "metadata": {
        "colab": {
          "base_uri": "https://localhost:8080/",
          "height": 204
        },
        "id": "EvvrDrFZ3oYy",
        "outputId": "8ca4cef9-dc2e-4cf8-d233-b64812c732cd"
      },
      "source": [
        "df.head()"
      ],
      "execution_count": 11,
      "outputs": [
        {
          "output_type": "execute_result",
          "data": {
            "text/html": [
              "<div>\n",
              "<style scoped>\n",
              "    .dataframe tbody tr th:only-of-type {\n",
              "        vertical-align: middle;\n",
              "    }\n",
              "\n",
              "    .dataframe tbody tr th {\n",
              "        vertical-align: top;\n",
              "    }\n",
              "\n",
              "    .dataframe thead th {\n",
              "        text-align: right;\n",
              "    }\n",
              "</style>\n",
              "<table border=\"1\" class=\"dataframe\">\n",
              "  <thead>\n",
              "    <tr style=\"text-align: right;\">\n",
              "      <th></th>\n",
              "      <th>emotion</th>\n",
              "      <th>Usage</th>\n",
              "    </tr>\n",
              "  </thead>\n",
              "  <tbody>\n",
              "    <tr>\n",
              "      <th>0</th>\n",
              "      <td>0</td>\n",
              "      <td>Training</td>\n",
              "    </tr>\n",
              "    <tr>\n",
              "      <th>1</th>\n",
              "      <td>0</td>\n",
              "      <td>Training</td>\n",
              "    </tr>\n",
              "    <tr>\n",
              "      <th>2</th>\n",
              "      <td>2</td>\n",
              "      <td>Training</td>\n",
              "    </tr>\n",
              "    <tr>\n",
              "      <th>3</th>\n",
              "      <td>4</td>\n",
              "      <td>Training</td>\n",
              "    </tr>\n",
              "    <tr>\n",
              "      <th>4</th>\n",
              "      <td>6</td>\n",
              "      <td>Training</td>\n",
              "    </tr>\n",
              "  </tbody>\n",
              "</table>\n",
              "</div>"
            ],
            "text/plain": [
              "   emotion     Usage\n",
              "0        0  Training\n",
              "1        0  Training\n",
              "2        2  Training\n",
              "3        4  Training\n",
              "4        6  Training"
            ]
          },
          "metadata": {
            "tags": []
          },
          "execution_count": 11
        }
      ]
    },
    {
      "cell_type": "code",
      "metadata": {
        "colab": {
          "base_uri": "https://localhost:8080/",
          "height": 253
        },
        "id": "aPbil-9x3r4I",
        "outputId": "ea054e72-d049-42fa-9969-0a28b0e36f82"
      },
      "source": [
        "df=pd.concat([arr,df],axis=1)\r\n",
        "df.head()"
      ],
      "execution_count": 12,
      "outputs": [
        {
          "output_type": "execute_result",
          "data": {
            "text/html": [
              "<div>\n",
              "<style scoped>\n",
              "    .dataframe tbody tr th:only-of-type {\n",
              "        vertical-align: middle;\n",
              "    }\n",
              "\n",
              "    .dataframe tbody tr th {\n",
              "        vertical-align: top;\n",
              "    }\n",
              "\n",
              "    .dataframe thead th {\n",
              "        text-align: right;\n",
              "    }\n",
              "</style>\n",
              "<table border=\"1\" class=\"dataframe\">\n",
              "  <thead>\n",
              "    <tr style=\"text-align: right;\">\n",
              "      <th></th>\n",
              "      <th>0</th>\n",
              "      <th>1</th>\n",
              "      <th>2</th>\n",
              "      <th>3</th>\n",
              "      <th>4</th>\n",
              "      <th>5</th>\n",
              "      <th>6</th>\n",
              "      <th>7</th>\n",
              "      <th>8</th>\n",
              "      <th>9</th>\n",
              "      <th>10</th>\n",
              "      <th>11</th>\n",
              "      <th>12</th>\n",
              "      <th>13</th>\n",
              "      <th>14</th>\n",
              "      <th>15</th>\n",
              "      <th>16</th>\n",
              "      <th>17</th>\n",
              "      <th>18</th>\n",
              "      <th>19</th>\n",
              "      <th>20</th>\n",
              "      <th>21</th>\n",
              "      <th>22</th>\n",
              "      <th>23</th>\n",
              "      <th>24</th>\n",
              "      <th>25</th>\n",
              "      <th>26</th>\n",
              "      <th>27</th>\n",
              "      <th>28</th>\n",
              "      <th>29</th>\n",
              "      <th>30</th>\n",
              "      <th>31</th>\n",
              "      <th>32</th>\n",
              "      <th>33</th>\n",
              "      <th>34</th>\n",
              "      <th>35</th>\n",
              "      <th>36</th>\n",
              "      <th>37</th>\n",
              "      <th>38</th>\n",
              "      <th>39</th>\n",
              "      <th>...</th>\n",
              "      <th>2266</th>\n",
              "      <th>2267</th>\n",
              "      <th>2268</th>\n",
              "      <th>2269</th>\n",
              "      <th>2270</th>\n",
              "      <th>2271</th>\n",
              "      <th>2272</th>\n",
              "      <th>2273</th>\n",
              "      <th>2274</th>\n",
              "      <th>2275</th>\n",
              "      <th>2276</th>\n",
              "      <th>2277</th>\n",
              "      <th>2278</th>\n",
              "      <th>2279</th>\n",
              "      <th>2280</th>\n",
              "      <th>2281</th>\n",
              "      <th>2282</th>\n",
              "      <th>2283</th>\n",
              "      <th>2284</th>\n",
              "      <th>2285</th>\n",
              "      <th>2286</th>\n",
              "      <th>2287</th>\n",
              "      <th>2288</th>\n",
              "      <th>2289</th>\n",
              "      <th>2290</th>\n",
              "      <th>2291</th>\n",
              "      <th>2292</th>\n",
              "      <th>2293</th>\n",
              "      <th>2294</th>\n",
              "      <th>2295</th>\n",
              "      <th>2296</th>\n",
              "      <th>2297</th>\n",
              "      <th>2298</th>\n",
              "      <th>2299</th>\n",
              "      <th>2300</th>\n",
              "      <th>2301</th>\n",
              "      <th>2302</th>\n",
              "      <th>2303</th>\n",
              "      <th>emotion</th>\n",
              "      <th>Usage</th>\n",
              "    </tr>\n",
              "  </thead>\n",
              "  <tbody>\n",
              "    <tr>\n",
              "      <th>0</th>\n",
              "      <td>0.274510</td>\n",
              "      <td>0.313725</td>\n",
              "      <td>0.321569</td>\n",
              "      <td>0.282353</td>\n",
              "      <td>0.227451</td>\n",
              "      <td>0.227451</td>\n",
              "      <td>0.235294</td>\n",
              "      <td>0.247059</td>\n",
              "      <td>0.211765</td>\n",
              "      <td>0.227451</td>\n",
              "      <td>0.235294</td>\n",
              "      <td>0.188235</td>\n",
              "      <td>0.349020</td>\n",
              "      <td>0.450980</td>\n",
              "      <td>0.474510</td>\n",
              "      <td>0.466667</td>\n",
              "      <td>0.450980</td>\n",
              "      <td>0.431373</td>\n",
              "      <td>0.384314</td>\n",
              "      <td>0.356863</td>\n",
              "      <td>0.329412</td>\n",
              "      <td>0.329412</td>\n",
              "      <td>0.352941</td>\n",
              "      <td>0.388235</td>\n",
              "      <td>0.431373</td>\n",
              "      <td>0.494118</td>\n",
              "      <td>0.560784</td>\n",
              "      <td>0.600000</td>\n",
              "      <td>0.619608</td>\n",
              "      <td>0.670588</td>\n",
              "      <td>0.662745</td>\n",
              "      <td>0.674510</td>\n",
              "      <td>0.662745</td>\n",
              "      <td>0.647059</td>\n",
              "      <td>0.505882</td>\n",
              "      <td>0.431373</td>\n",
              "      <td>0.443137</td>\n",
              "      <td>0.419608</td>\n",
              "      <td>0.372549</td>\n",
              "      <td>0.309804</td>\n",
              "      <td>...</td>\n",
              "      <td>0.156863</td>\n",
              "      <td>0.180392</td>\n",
              "      <td>0.254902</td>\n",
              "      <td>0.345098</td>\n",
              "      <td>0.423529</td>\n",
              "      <td>0.431373</td>\n",
              "      <td>0.490196</td>\n",
              "      <td>0.584314</td>\n",
              "      <td>0.615686</td>\n",
              "      <td>0.600000</td>\n",
              "      <td>0.635294</td>\n",
              "      <td>0.643137</td>\n",
              "      <td>0.619608</td>\n",
              "      <td>0.623529</td>\n",
              "      <td>0.603922</td>\n",
              "      <td>0.549020</td>\n",
              "      <td>0.305882</td>\n",
              "      <td>0.082353</td>\n",
              "      <td>0.043137</td>\n",
              "      <td>0.239216</td>\n",
              "      <td>0.564706</td>\n",
              "      <td>0.658824</td>\n",
              "      <td>0.678431</td>\n",
              "      <td>0.615686</td>\n",
              "      <td>0.541176</td>\n",
              "      <td>0.588235</td>\n",
              "      <td>0.580392</td>\n",
              "      <td>0.517647</td>\n",
              "      <td>0.623529</td>\n",
              "      <td>0.713725</td>\n",
              "      <td>0.717647</td>\n",
              "      <td>0.533333</td>\n",
              "      <td>0.415686</td>\n",
              "      <td>0.454902</td>\n",
              "      <td>0.372549</td>\n",
              "      <td>0.415686</td>\n",
              "      <td>0.427451</td>\n",
              "      <td>0.321569</td>\n",
              "      <td>0</td>\n",
              "      <td>Training</td>\n",
              "    </tr>\n",
              "    <tr>\n",
              "      <th>1</th>\n",
              "      <td>0.592157</td>\n",
              "      <td>0.588235</td>\n",
              "      <td>0.576471</td>\n",
              "      <td>0.607843</td>\n",
              "      <td>0.580392</td>\n",
              "      <td>0.521569</td>\n",
              "      <td>0.435294</td>\n",
              "      <td>0.549020</td>\n",
              "      <td>0.666667</td>\n",
              "      <td>0.682353</td>\n",
              "      <td>0.713725</td>\n",
              "      <td>0.603922</td>\n",
              "      <td>0.600000</td>\n",
              "      <td>0.643137</td>\n",
              "      <td>0.678431</td>\n",
              "      <td>0.698039</td>\n",
              "      <td>0.725490</td>\n",
              "      <td>0.725490</td>\n",
              "      <td>0.741176</td>\n",
              "      <td>0.733333</td>\n",
              "      <td>0.729412</td>\n",
              "      <td>0.756863</td>\n",
              "      <td>0.760784</td>\n",
              "      <td>0.725490</td>\n",
              "      <td>0.717647</td>\n",
              "      <td>0.729412</td>\n",
              "      <td>0.705882</td>\n",
              "      <td>0.678431</td>\n",
              "      <td>0.650980</td>\n",
              "      <td>0.631373</td>\n",
              "      <td>0.576471</td>\n",
              "      <td>0.521569</td>\n",
              "      <td>0.674510</td>\n",
              "      <td>0.592157</td>\n",
              "      <td>0.447059</td>\n",
              "      <td>0.631373</td>\n",
              "      <td>0.631373</td>\n",
              "      <td>0.572549</td>\n",
              "      <td>0.513725</td>\n",
              "      <td>0.407843</td>\n",
              "      <td>...</td>\n",
              "      <td>0.560784</td>\n",
              "      <td>0.529412</td>\n",
              "      <td>0.450980</td>\n",
              "      <td>0.400000</td>\n",
              "      <td>0.435294</td>\n",
              "      <td>0.486275</td>\n",
              "      <td>0.439216</td>\n",
              "      <td>0.427451</td>\n",
              "      <td>0.517647</td>\n",
              "      <td>0.572549</td>\n",
              "      <td>0.529412</td>\n",
              "      <td>0.584314</td>\n",
              "      <td>0.580392</td>\n",
              "      <td>0.560784</td>\n",
              "      <td>0.639216</td>\n",
              "      <td>0.611765</td>\n",
              "      <td>0.623529</td>\n",
              "      <td>0.588235</td>\n",
              "      <td>0.545098</td>\n",
              "      <td>0.501961</td>\n",
              "      <td>0.454902</td>\n",
              "      <td>0.490196</td>\n",
              "      <td>0.521569</td>\n",
              "      <td>0.427451</td>\n",
              "      <td>0.509804</td>\n",
              "      <td>0.576471</td>\n",
              "      <td>0.509804</td>\n",
              "      <td>0.474510</td>\n",
              "      <td>0.411765</td>\n",
              "      <td>0.423529</td>\n",
              "      <td>0.372549</td>\n",
              "      <td>0.423529</td>\n",
              "      <td>0.400000</td>\n",
              "      <td>0.262745</td>\n",
              "      <td>0.670588</td>\n",
              "      <td>0.756863</td>\n",
              "      <td>0.717647</td>\n",
              "      <td>0.721569</td>\n",
              "      <td>0</td>\n",
              "      <td>Training</td>\n",
              "    </tr>\n",
              "    <tr>\n",
              "      <th>2</th>\n",
              "      <td>0.905882</td>\n",
              "      <td>0.831373</td>\n",
              "      <td>0.611765</td>\n",
              "      <td>0.643137</td>\n",
              "      <td>0.682353</td>\n",
              "      <td>0.541176</td>\n",
              "      <td>0.631373</td>\n",
              "      <td>0.678431</td>\n",
              "      <td>0.713725</td>\n",
              "      <td>0.784314</td>\n",
              "      <td>0.415686</td>\n",
              "      <td>0.149020</td>\n",
              "      <td>0.152941</td>\n",
              "      <td>0.290196</td>\n",
              "      <td>0.541176</td>\n",
              "      <td>0.631373</td>\n",
              "      <td>0.643137</td>\n",
              "      <td>0.701961</td>\n",
              "      <td>0.745098</td>\n",
              "      <td>0.788235</td>\n",
              "      <td>0.823529</td>\n",
              "      <td>0.847059</td>\n",
              "      <td>0.862745</td>\n",
              "      <td>0.878431</td>\n",
              "      <td>0.870588</td>\n",
              "      <td>0.854902</td>\n",
              "      <td>0.847059</td>\n",
              "      <td>0.835294</td>\n",
              "      <td>0.850980</td>\n",
              "      <td>0.862745</td>\n",
              "      <td>0.862745</td>\n",
              "      <td>0.854902</td>\n",
              "      <td>0.850980</td>\n",
              "      <td>0.831373</td>\n",
              "      <td>0.682353</td>\n",
              "      <td>0.627451</td>\n",
              "      <td>0.635294</td>\n",
              "      <td>0.627451</td>\n",
              "      <td>0.545098</td>\n",
              "      <td>0.529412</td>\n",
              "      <td>...</td>\n",
              "      <td>0.843137</td>\n",
              "      <td>0.811765</td>\n",
              "      <td>0.780392</td>\n",
              "      <td>0.654902</td>\n",
              "      <td>0.423529</td>\n",
              "      <td>0.592157</td>\n",
              "      <td>0.478431</td>\n",
              "      <td>0.345098</td>\n",
              "      <td>0.278431</td>\n",
              "      <td>0.329412</td>\n",
              "      <td>0.470588</td>\n",
              "      <td>0.498039</td>\n",
              "      <td>0.411765</td>\n",
              "      <td>0.298039</td>\n",
              "      <td>0.278431</td>\n",
              "      <td>0.305882</td>\n",
              "      <td>0.352941</td>\n",
              "      <td>0.415686</td>\n",
              "      <td>0.482353</td>\n",
              "      <td>0.572549</td>\n",
              "      <td>0.607843</td>\n",
              "      <td>0.580392</td>\n",
              "      <td>0.509804</td>\n",
              "      <td>0.552941</td>\n",
              "      <td>0.466667</td>\n",
              "      <td>0.270588</td>\n",
              "      <td>0.211765</td>\n",
              "      <td>0.349020</td>\n",
              "      <td>0.407843</td>\n",
              "      <td>0.541176</td>\n",
              "      <td>0.596078</td>\n",
              "      <td>0.478431</td>\n",
              "      <td>0.447059</td>\n",
              "      <td>0.396078</td>\n",
              "      <td>0.380392</td>\n",
              "      <td>0.345098</td>\n",
              "      <td>0.431373</td>\n",
              "      <td>0.596078</td>\n",
              "      <td>2</td>\n",
              "      <td>Training</td>\n",
              "    </tr>\n",
              "    <tr>\n",
              "      <th>3</th>\n",
              "      <td>0.094118</td>\n",
              "      <td>0.125490</td>\n",
              "      <td>0.141176</td>\n",
              "      <td>0.117647</td>\n",
              "      <td>0.125490</td>\n",
              "      <td>0.090196</td>\n",
              "      <td>0.074510</td>\n",
              "      <td>0.078431</td>\n",
              "      <td>0.117647</td>\n",
              "      <td>0.160784</td>\n",
              "      <td>0.082353</td>\n",
              "      <td>0.086275</td>\n",
              "      <td>0.125490</td>\n",
              "      <td>0.133333</td>\n",
              "      <td>0.082353</td>\n",
              "      <td>0.074510</td>\n",
              "      <td>0.168627</td>\n",
              "      <td>0.203922</td>\n",
              "      <td>0.050980</td>\n",
              "      <td>0.101961</td>\n",
              "      <td>0.156863</td>\n",
              "      <td>0.231373</td>\n",
              "      <td>0.254902</td>\n",
              "      <td>0.047059</td>\n",
              "      <td>0.078431</td>\n",
              "      <td>0.247059</td>\n",
              "      <td>0.388235</td>\n",
              "      <td>0.384314</td>\n",
              "      <td>0.384314</td>\n",
              "      <td>0.435294</td>\n",
              "      <td>0.294118</td>\n",
              "      <td>0.243137</td>\n",
              "      <td>0.160784</td>\n",
              "      <td>0.286275</td>\n",
              "      <td>0.462745</td>\n",
              "      <td>0.549020</td>\n",
              "      <td>0.752941</td>\n",
              "      <td>0.729412</td>\n",
              "      <td>0.733333</td>\n",
              "      <td>0.737255</td>\n",
              "      <td>...</td>\n",
              "      <td>0.631373</td>\n",
              "      <td>0.654902</td>\n",
              "      <td>0.662745</td>\n",
              "      <td>0.654902</td>\n",
              "      <td>0.635294</td>\n",
              "      <td>0.643137</td>\n",
              "      <td>0.662745</td>\n",
              "      <td>0.709804</td>\n",
              "      <td>0.674510</td>\n",
              "      <td>0.658824</td>\n",
              "      <td>0.662745</td>\n",
              "      <td>0.666667</td>\n",
              "      <td>0.682353</td>\n",
              "      <td>0.701961</td>\n",
              "      <td>0.705882</td>\n",
              "      <td>0.713725</td>\n",
              "      <td>0.768627</td>\n",
              "      <td>0.815686</td>\n",
              "      <td>0.886275</td>\n",
              "      <td>0.901961</td>\n",
              "      <td>0.549020</td>\n",
              "      <td>0.443137</td>\n",
              "      <td>0.447059</td>\n",
              "      <td>0.490196</td>\n",
              "      <td>0.529412</td>\n",
              "      <td>0.552941</td>\n",
              "      <td>0.674510</td>\n",
              "      <td>0.839216</td>\n",
              "      <td>0.682353</td>\n",
              "      <td>0.494118</td>\n",
              "      <td>0.517647</td>\n",
              "      <td>0.517647</td>\n",
              "      <td>0.521569</td>\n",
              "      <td>0.533333</td>\n",
              "      <td>0.545098</td>\n",
              "      <td>0.556863</td>\n",
              "      <td>0.560784</td>\n",
              "      <td>0.556863</td>\n",
              "      <td>4</td>\n",
              "      <td>Training</td>\n",
              "    </tr>\n",
              "    <tr>\n",
              "      <th>4</th>\n",
              "      <td>0.015686</td>\n",
              "      <td>0.000000</td>\n",
              "      <td>0.000000</td>\n",
              "      <td>0.000000</td>\n",
              "      <td>0.000000</td>\n",
              "      <td>0.000000</td>\n",
              "      <td>0.000000</td>\n",
              "      <td>0.000000</td>\n",
              "      <td>0.000000</td>\n",
              "      <td>0.000000</td>\n",
              "      <td>0.000000</td>\n",
              "      <td>0.000000</td>\n",
              "      <td>0.011765</td>\n",
              "      <td>0.058824</td>\n",
              "      <td>0.090196</td>\n",
              "      <td>0.109804</td>\n",
              "      <td>0.188235</td>\n",
              "      <td>0.196078</td>\n",
              "      <td>0.227451</td>\n",
              "      <td>0.329412</td>\n",
              "      <td>0.450980</td>\n",
              "      <td>0.498039</td>\n",
              "      <td>0.537255</td>\n",
              "      <td>0.556863</td>\n",
              "      <td>0.592157</td>\n",
              "      <td>0.611765</td>\n",
              "      <td>0.607843</td>\n",
              "      <td>0.584314</td>\n",
              "      <td>0.600000</td>\n",
              "      <td>0.596078</td>\n",
              "      <td>0.615686</td>\n",
              "      <td>0.627451</td>\n",
              "      <td>0.635294</td>\n",
              "      <td>0.623529</td>\n",
              "      <td>0.568627</td>\n",
              "      <td>0.474510</td>\n",
              "      <td>0.325490</td>\n",
              "      <td>0.227451</td>\n",
              "      <td>0.188235</td>\n",
              "      <td>0.149020</td>\n",
              "      <td>...</td>\n",
              "      <td>0.074510</td>\n",
              "      <td>0.050980</td>\n",
              "      <td>0.043137</td>\n",
              "      <td>0.086275</td>\n",
              "      <td>0.145098</td>\n",
              "      <td>0.188235</td>\n",
              "      <td>0.215686</td>\n",
              "      <td>0.262745</td>\n",
              "      <td>0.345098</td>\n",
              "      <td>0.372549</td>\n",
              "      <td>0.439216</td>\n",
              "      <td>0.462745</td>\n",
              "      <td>0.482353</td>\n",
              "      <td>0.552941</td>\n",
              "      <td>0.615686</td>\n",
              "      <td>0.682353</td>\n",
              "      <td>0.709804</td>\n",
              "      <td>0.725490</td>\n",
              "      <td>0.721569</td>\n",
              "      <td>0.701961</td>\n",
              "      <td>0.690196</td>\n",
              "      <td>0.670588</td>\n",
              "      <td>0.607843</td>\n",
              "      <td>0.501961</td>\n",
              "      <td>0.411765</td>\n",
              "      <td>0.039216</td>\n",
              "      <td>0.000000</td>\n",
              "      <td>0.000000</td>\n",
              "      <td>0.047059</td>\n",
              "      <td>0.133333</td>\n",
              "      <td>0.121569</td>\n",
              "      <td>0.121569</td>\n",
              "      <td>0.121569</td>\n",
              "      <td>0.105882</td>\n",
              "      <td>0.121569</td>\n",
              "      <td>0.117647</td>\n",
              "      <td>0.113725</td>\n",
              "      <td>0.117647</td>\n",
              "      <td>6</td>\n",
              "      <td>Training</td>\n",
              "    </tr>\n",
              "  </tbody>\n",
              "</table>\n",
              "<p>5 rows × 2306 columns</p>\n",
              "</div>"
            ],
            "text/plain": [
              "          0         1         2  ...      2303  emotion     Usage\n",
              "0  0.274510  0.313725  0.321569  ...  0.321569        0  Training\n",
              "1  0.592157  0.588235  0.576471  ...  0.721569        0  Training\n",
              "2  0.905882  0.831373  0.611765  ...  0.596078        2  Training\n",
              "3  0.094118  0.125490  0.141176  ...  0.556863        4  Training\n",
              "4  0.015686  0.000000  0.000000  ...  0.117647        6  Training\n",
              "\n",
              "[5 rows x 2306 columns]"
            ]
          },
          "metadata": {
            "tags": []
          },
          "execution_count": 12
        }
      ]
    },
    {
      "cell_type": "code",
      "metadata": {
        "colab": {
          "base_uri": "https://localhost:8080/"
        },
        "id": "I5lUGvQT31kA",
        "outputId": "88bc522e-3430-445f-c5b7-94a3f46bb60b"
      },
      "source": [
        "df.info()"
      ],
      "execution_count": 13,
      "outputs": [
        {
          "output_type": "stream",
          "text": [
            "<class 'pandas.core.frame.DataFrame'>\n",
            "RangeIndex: 35887 entries, 0 to 35886\n",
            "Columns: 2306 entries, 0 to Usage\n",
            "dtypes: float64(2304), int64(1), object(1)\n",
            "memory usage: 631.4+ MB\n"
          ],
          "name": "stdout"
        }
      ]
    },
    {
      "cell_type": "code",
      "metadata": {
        "colab": {
          "base_uri": "https://localhost:8080/"
        },
        "id": "XzrZzhLe35D4",
        "outputId": "660722b9-94e9-421e-dc0e-c5a5a48717bb"
      },
      "source": [
        "df['Usage'].value_counts()"
      ],
      "execution_count": 14,
      "outputs": [
        {
          "output_type": "execute_result",
          "data": {
            "text/plain": [
              "Training       28709\n",
              "PublicTest      3589\n",
              "PrivateTest     3589\n",
              "Name: Usage, dtype: int64"
            ]
          },
          "metadata": {
            "tags": []
          },
          "execution_count": 14
        }
      ]
    },
    {
      "cell_type": "code",
      "metadata": {
        "colab": {
          "base_uri": "https://localhost:8080/"
        },
        "id": "WpYmaZ4f4DSo",
        "outputId": "53fdeb4e-51ca-40ad-c410-5d6a1607f49b"
      },
      "source": [
        "xxx=df[df['Usage']=='PrivateTest']\r\n",
        "xxx['emotion'].value_counts()\r\n"
      ],
      "execution_count": 15,
      "outputs": [
        {
          "output_type": "execute_result",
          "data": {
            "text/plain": [
              "3    879\n",
              "6    626\n",
              "4    594\n",
              "2    528\n",
              "0    491\n",
              "5    416\n",
              "1     55\n",
              "Name: emotion, dtype: int64"
            ]
          },
          "metadata": {
            "tags": []
          },
          "execution_count": 15
        }
      ]
    },
    {
      "cell_type": "code",
      "metadata": {
        "colab": {
          "base_uri": "https://localhost:8080/"
        },
        "id": "MtafPryZ4mCY",
        "outputId": "3af60fd4-0c86-43b4-f32a-43a50021761b"
      },
      "source": [
        "xxx=df[df['Usage']=='PublicTest']\r\n",
        "xxx['emotion'].value_counts()"
      ],
      "execution_count": 16,
      "outputs": [
        {
          "output_type": "execute_result",
          "data": {
            "text/plain": [
              "3    895\n",
              "4    653\n",
              "6    607\n",
              "2    496\n",
              "0    467\n",
              "5    415\n",
              "1     56\n",
              "Name: emotion, dtype: int64"
            ]
          },
          "metadata": {
            "tags": []
          },
          "execution_count": 16
        }
      ]
    },
    {
      "cell_type": "code",
      "metadata": {
        "id": "WAfzV06c4TLv"
      },
      "source": [
        "train=df[df['Usage']=='Training']\r\n",
        "val=df[df['Usage']=='PublicTest']\r\n",
        "test=df[df['Usage']=='PrivateTest']"
      ],
      "execution_count": 17,
      "outputs": []
    },
    {
      "cell_type": "code",
      "metadata": {
        "colab": {
          "base_uri": "https://localhost:8080/"
        },
        "id": "J8jbijo94--I",
        "outputId": "e96c2c5f-5050-4874-ae9d-18c43118591c"
      },
      "source": [
        "train.drop('Usage',1,inplace=True)\r\n",
        "val.drop('Usage',1,inplace=True)\r\n",
        "test.drop('Usage',1,inplace=True)"
      ],
      "execution_count": 18,
      "outputs": [
        {
          "output_type": "stream",
          "text": [
            "/usr/local/lib/python3.6/dist-packages/pandas/core/frame.py:4174: SettingWithCopyWarning: \n",
            "A value is trying to be set on a copy of a slice from a DataFrame\n",
            "\n",
            "See the caveats in the documentation: https://pandas.pydata.org/pandas-docs/stable/user_guide/indexing.html#returning-a-view-versus-a-copy\n",
            "  errors=errors,\n"
          ],
          "name": "stderr"
        }
      ]
    },
    {
      "cell_type": "code",
      "metadata": {
        "colab": {
          "base_uri": "https://localhost:8080/",
          "height": 253
        },
        "id": "2JiZnPWP5rix",
        "outputId": "b96225a9-796a-445b-e5bf-c93887d81327"
      },
      "source": [
        "train.head()"
      ],
      "execution_count": 19,
      "outputs": [
        {
          "output_type": "execute_result",
          "data": {
            "text/html": [
              "<div>\n",
              "<style scoped>\n",
              "    .dataframe tbody tr th:only-of-type {\n",
              "        vertical-align: middle;\n",
              "    }\n",
              "\n",
              "    .dataframe tbody tr th {\n",
              "        vertical-align: top;\n",
              "    }\n",
              "\n",
              "    .dataframe thead th {\n",
              "        text-align: right;\n",
              "    }\n",
              "</style>\n",
              "<table border=\"1\" class=\"dataframe\">\n",
              "  <thead>\n",
              "    <tr style=\"text-align: right;\">\n",
              "      <th></th>\n",
              "      <th>0</th>\n",
              "      <th>1</th>\n",
              "      <th>2</th>\n",
              "      <th>3</th>\n",
              "      <th>4</th>\n",
              "      <th>5</th>\n",
              "      <th>6</th>\n",
              "      <th>7</th>\n",
              "      <th>8</th>\n",
              "      <th>9</th>\n",
              "      <th>10</th>\n",
              "      <th>11</th>\n",
              "      <th>12</th>\n",
              "      <th>13</th>\n",
              "      <th>14</th>\n",
              "      <th>15</th>\n",
              "      <th>16</th>\n",
              "      <th>17</th>\n",
              "      <th>18</th>\n",
              "      <th>19</th>\n",
              "      <th>20</th>\n",
              "      <th>21</th>\n",
              "      <th>22</th>\n",
              "      <th>23</th>\n",
              "      <th>24</th>\n",
              "      <th>25</th>\n",
              "      <th>26</th>\n",
              "      <th>27</th>\n",
              "      <th>28</th>\n",
              "      <th>29</th>\n",
              "      <th>30</th>\n",
              "      <th>31</th>\n",
              "      <th>32</th>\n",
              "      <th>33</th>\n",
              "      <th>34</th>\n",
              "      <th>35</th>\n",
              "      <th>36</th>\n",
              "      <th>37</th>\n",
              "      <th>38</th>\n",
              "      <th>39</th>\n",
              "      <th>...</th>\n",
              "      <th>2265</th>\n",
              "      <th>2266</th>\n",
              "      <th>2267</th>\n",
              "      <th>2268</th>\n",
              "      <th>2269</th>\n",
              "      <th>2270</th>\n",
              "      <th>2271</th>\n",
              "      <th>2272</th>\n",
              "      <th>2273</th>\n",
              "      <th>2274</th>\n",
              "      <th>2275</th>\n",
              "      <th>2276</th>\n",
              "      <th>2277</th>\n",
              "      <th>2278</th>\n",
              "      <th>2279</th>\n",
              "      <th>2280</th>\n",
              "      <th>2281</th>\n",
              "      <th>2282</th>\n",
              "      <th>2283</th>\n",
              "      <th>2284</th>\n",
              "      <th>2285</th>\n",
              "      <th>2286</th>\n",
              "      <th>2287</th>\n",
              "      <th>2288</th>\n",
              "      <th>2289</th>\n",
              "      <th>2290</th>\n",
              "      <th>2291</th>\n",
              "      <th>2292</th>\n",
              "      <th>2293</th>\n",
              "      <th>2294</th>\n",
              "      <th>2295</th>\n",
              "      <th>2296</th>\n",
              "      <th>2297</th>\n",
              "      <th>2298</th>\n",
              "      <th>2299</th>\n",
              "      <th>2300</th>\n",
              "      <th>2301</th>\n",
              "      <th>2302</th>\n",
              "      <th>2303</th>\n",
              "      <th>emotion</th>\n",
              "    </tr>\n",
              "  </thead>\n",
              "  <tbody>\n",
              "    <tr>\n",
              "      <th>0</th>\n",
              "      <td>0.274510</td>\n",
              "      <td>0.313725</td>\n",
              "      <td>0.321569</td>\n",
              "      <td>0.282353</td>\n",
              "      <td>0.227451</td>\n",
              "      <td>0.227451</td>\n",
              "      <td>0.235294</td>\n",
              "      <td>0.247059</td>\n",
              "      <td>0.211765</td>\n",
              "      <td>0.227451</td>\n",
              "      <td>0.235294</td>\n",
              "      <td>0.188235</td>\n",
              "      <td>0.349020</td>\n",
              "      <td>0.450980</td>\n",
              "      <td>0.474510</td>\n",
              "      <td>0.466667</td>\n",
              "      <td>0.450980</td>\n",
              "      <td>0.431373</td>\n",
              "      <td>0.384314</td>\n",
              "      <td>0.356863</td>\n",
              "      <td>0.329412</td>\n",
              "      <td>0.329412</td>\n",
              "      <td>0.352941</td>\n",
              "      <td>0.388235</td>\n",
              "      <td>0.431373</td>\n",
              "      <td>0.494118</td>\n",
              "      <td>0.560784</td>\n",
              "      <td>0.600000</td>\n",
              "      <td>0.619608</td>\n",
              "      <td>0.670588</td>\n",
              "      <td>0.662745</td>\n",
              "      <td>0.674510</td>\n",
              "      <td>0.662745</td>\n",
              "      <td>0.647059</td>\n",
              "      <td>0.505882</td>\n",
              "      <td>0.431373</td>\n",
              "      <td>0.443137</td>\n",
              "      <td>0.419608</td>\n",
              "      <td>0.372549</td>\n",
              "      <td>0.309804</td>\n",
              "      <td>...</td>\n",
              "      <td>0.121569</td>\n",
              "      <td>0.156863</td>\n",
              "      <td>0.180392</td>\n",
              "      <td>0.254902</td>\n",
              "      <td>0.345098</td>\n",
              "      <td>0.423529</td>\n",
              "      <td>0.431373</td>\n",
              "      <td>0.490196</td>\n",
              "      <td>0.584314</td>\n",
              "      <td>0.615686</td>\n",
              "      <td>0.600000</td>\n",
              "      <td>0.635294</td>\n",
              "      <td>0.643137</td>\n",
              "      <td>0.619608</td>\n",
              "      <td>0.623529</td>\n",
              "      <td>0.603922</td>\n",
              "      <td>0.549020</td>\n",
              "      <td>0.305882</td>\n",
              "      <td>0.082353</td>\n",
              "      <td>0.043137</td>\n",
              "      <td>0.239216</td>\n",
              "      <td>0.564706</td>\n",
              "      <td>0.658824</td>\n",
              "      <td>0.678431</td>\n",
              "      <td>0.615686</td>\n",
              "      <td>0.541176</td>\n",
              "      <td>0.588235</td>\n",
              "      <td>0.580392</td>\n",
              "      <td>0.517647</td>\n",
              "      <td>0.623529</td>\n",
              "      <td>0.713725</td>\n",
              "      <td>0.717647</td>\n",
              "      <td>0.533333</td>\n",
              "      <td>0.415686</td>\n",
              "      <td>0.454902</td>\n",
              "      <td>0.372549</td>\n",
              "      <td>0.415686</td>\n",
              "      <td>0.427451</td>\n",
              "      <td>0.321569</td>\n",
              "      <td>0</td>\n",
              "    </tr>\n",
              "    <tr>\n",
              "      <th>1</th>\n",
              "      <td>0.592157</td>\n",
              "      <td>0.588235</td>\n",
              "      <td>0.576471</td>\n",
              "      <td>0.607843</td>\n",
              "      <td>0.580392</td>\n",
              "      <td>0.521569</td>\n",
              "      <td>0.435294</td>\n",
              "      <td>0.549020</td>\n",
              "      <td>0.666667</td>\n",
              "      <td>0.682353</td>\n",
              "      <td>0.713725</td>\n",
              "      <td>0.603922</td>\n",
              "      <td>0.600000</td>\n",
              "      <td>0.643137</td>\n",
              "      <td>0.678431</td>\n",
              "      <td>0.698039</td>\n",
              "      <td>0.725490</td>\n",
              "      <td>0.725490</td>\n",
              "      <td>0.741176</td>\n",
              "      <td>0.733333</td>\n",
              "      <td>0.729412</td>\n",
              "      <td>0.756863</td>\n",
              "      <td>0.760784</td>\n",
              "      <td>0.725490</td>\n",
              "      <td>0.717647</td>\n",
              "      <td>0.729412</td>\n",
              "      <td>0.705882</td>\n",
              "      <td>0.678431</td>\n",
              "      <td>0.650980</td>\n",
              "      <td>0.631373</td>\n",
              "      <td>0.576471</td>\n",
              "      <td>0.521569</td>\n",
              "      <td>0.674510</td>\n",
              "      <td>0.592157</td>\n",
              "      <td>0.447059</td>\n",
              "      <td>0.631373</td>\n",
              "      <td>0.631373</td>\n",
              "      <td>0.572549</td>\n",
              "      <td>0.513725</td>\n",
              "      <td>0.407843</td>\n",
              "      <td>...</td>\n",
              "      <td>0.505882</td>\n",
              "      <td>0.560784</td>\n",
              "      <td>0.529412</td>\n",
              "      <td>0.450980</td>\n",
              "      <td>0.400000</td>\n",
              "      <td>0.435294</td>\n",
              "      <td>0.486275</td>\n",
              "      <td>0.439216</td>\n",
              "      <td>0.427451</td>\n",
              "      <td>0.517647</td>\n",
              "      <td>0.572549</td>\n",
              "      <td>0.529412</td>\n",
              "      <td>0.584314</td>\n",
              "      <td>0.580392</td>\n",
              "      <td>0.560784</td>\n",
              "      <td>0.639216</td>\n",
              "      <td>0.611765</td>\n",
              "      <td>0.623529</td>\n",
              "      <td>0.588235</td>\n",
              "      <td>0.545098</td>\n",
              "      <td>0.501961</td>\n",
              "      <td>0.454902</td>\n",
              "      <td>0.490196</td>\n",
              "      <td>0.521569</td>\n",
              "      <td>0.427451</td>\n",
              "      <td>0.509804</td>\n",
              "      <td>0.576471</td>\n",
              "      <td>0.509804</td>\n",
              "      <td>0.474510</td>\n",
              "      <td>0.411765</td>\n",
              "      <td>0.423529</td>\n",
              "      <td>0.372549</td>\n",
              "      <td>0.423529</td>\n",
              "      <td>0.400000</td>\n",
              "      <td>0.262745</td>\n",
              "      <td>0.670588</td>\n",
              "      <td>0.756863</td>\n",
              "      <td>0.717647</td>\n",
              "      <td>0.721569</td>\n",
              "      <td>0</td>\n",
              "    </tr>\n",
              "    <tr>\n",
              "      <th>2</th>\n",
              "      <td>0.905882</td>\n",
              "      <td>0.831373</td>\n",
              "      <td>0.611765</td>\n",
              "      <td>0.643137</td>\n",
              "      <td>0.682353</td>\n",
              "      <td>0.541176</td>\n",
              "      <td>0.631373</td>\n",
              "      <td>0.678431</td>\n",
              "      <td>0.713725</td>\n",
              "      <td>0.784314</td>\n",
              "      <td>0.415686</td>\n",
              "      <td>0.149020</td>\n",
              "      <td>0.152941</td>\n",
              "      <td>0.290196</td>\n",
              "      <td>0.541176</td>\n",
              "      <td>0.631373</td>\n",
              "      <td>0.643137</td>\n",
              "      <td>0.701961</td>\n",
              "      <td>0.745098</td>\n",
              "      <td>0.788235</td>\n",
              "      <td>0.823529</td>\n",
              "      <td>0.847059</td>\n",
              "      <td>0.862745</td>\n",
              "      <td>0.878431</td>\n",
              "      <td>0.870588</td>\n",
              "      <td>0.854902</td>\n",
              "      <td>0.847059</td>\n",
              "      <td>0.835294</td>\n",
              "      <td>0.850980</td>\n",
              "      <td>0.862745</td>\n",
              "      <td>0.862745</td>\n",
              "      <td>0.854902</td>\n",
              "      <td>0.850980</td>\n",
              "      <td>0.831373</td>\n",
              "      <td>0.682353</td>\n",
              "      <td>0.627451</td>\n",
              "      <td>0.635294</td>\n",
              "      <td>0.627451</td>\n",
              "      <td>0.545098</td>\n",
              "      <td>0.529412</td>\n",
              "      <td>...</td>\n",
              "      <td>0.862745</td>\n",
              "      <td>0.843137</td>\n",
              "      <td>0.811765</td>\n",
              "      <td>0.780392</td>\n",
              "      <td>0.654902</td>\n",
              "      <td>0.423529</td>\n",
              "      <td>0.592157</td>\n",
              "      <td>0.478431</td>\n",
              "      <td>0.345098</td>\n",
              "      <td>0.278431</td>\n",
              "      <td>0.329412</td>\n",
              "      <td>0.470588</td>\n",
              "      <td>0.498039</td>\n",
              "      <td>0.411765</td>\n",
              "      <td>0.298039</td>\n",
              "      <td>0.278431</td>\n",
              "      <td>0.305882</td>\n",
              "      <td>0.352941</td>\n",
              "      <td>0.415686</td>\n",
              "      <td>0.482353</td>\n",
              "      <td>0.572549</td>\n",
              "      <td>0.607843</td>\n",
              "      <td>0.580392</td>\n",
              "      <td>0.509804</td>\n",
              "      <td>0.552941</td>\n",
              "      <td>0.466667</td>\n",
              "      <td>0.270588</td>\n",
              "      <td>0.211765</td>\n",
              "      <td>0.349020</td>\n",
              "      <td>0.407843</td>\n",
              "      <td>0.541176</td>\n",
              "      <td>0.596078</td>\n",
              "      <td>0.478431</td>\n",
              "      <td>0.447059</td>\n",
              "      <td>0.396078</td>\n",
              "      <td>0.380392</td>\n",
              "      <td>0.345098</td>\n",
              "      <td>0.431373</td>\n",
              "      <td>0.596078</td>\n",
              "      <td>2</td>\n",
              "    </tr>\n",
              "    <tr>\n",
              "      <th>3</th>\n",
              "      <td>0.094118</td>\n",
              "      <td>0.125490</td>\n",
              "      <td>0.141176</td>\n",
              "      <td>0.117647</td>\n",
              "      <td>0.125490</td>\n",
              "      <td>0.090196</td>\n",
              "      <td>0.074510</td>\n",
              "      <td>0.078431</td>\n",
              "      <td>0.117647</td>\n",
              "      <td>0.160784</td>\n",
              "      <td>0.082353</td>\n",
              "      <td>0.086275</td>\n",
              "      <td>0.125490</td>\n",
              "      <td>0.133333</td>\n",
              "      <td>0.082353</td>\n",
              "      <td>0.074510</td>\n",
              "      <td>0.168627</td>\n",
              "      <td>0.203922</td>\n",
              "      <td>0.050980</td>\n",
              "      <td>0.101961</td>\n",
              "      <td>0.156863</td>\n",
              "      <td>0.231373</td>\n",
              "      <td>0.254902</td>\n",
              "      <td>0.047059</td>\n",
              "      <td>0.078431</td>\n",
              "      <td>0.247059</td>\n",
              "      <td>0.388235</td>\n",
              "      <td>0.384314</td>\n",
              "      <td>0.384314</td>\n",
              "      <td>0.435294</td>\n",
              "      <td>0.294118</td>\n",
              "      <td>0.243137</td>\n",
              "      <td>0.160784</td>\n",
              "      <td>0.286275</td>\n",
              "      <td>0.462745</td>\n",
              "      <td>0.549020</td>\n",
              "      <td>0.752941</td>\n",
              "      <td>0.729412</td>\n",
              "      <td>0.733333</td>\n",
              "      <td>0.737255</td>\n",
              "      <td>...</td>\n",
              "      <td>0.588235</td>\n",
              "      <td>0.631373</td>\n",
              "      <td>0.654902</td>\n",
              "      <td>0.662745</td>\n",
              "      <td>0.654902</td>\n",
              "      <td>0.635294</td>\n",
              "      <td>0.643137</td>\n",
              "      <td>0.662745</td>\n",
              "      <td>0.709804</td>\n",
              "      <td>0.674510</td>\n",
              "      <td>0.658824</td>\n",
              "      <td>0.662745</td>\n",
              "      <td>0.666667</td>\n",
              "      <td>0.682353</td>\n",
              "      <td>0.701961</td>\n",
              "      <td>0.705882</td>\n",
              "      <td>0.713725</td>\n",
              "      <td>0.768627</td>\n",
              "      <td>0.815686</td>\n",
              "      <td>0.886275</td>\n",
              "      <td>0.901961</td>\n",
              "      <td>0.549020</td>\n",
              "      <td>0.443137</td>\n",
              "      <td>0.447059</td>\n",
              "      <td>0.490196</td>\n",
              "      <td>0.529412</td>\n",
              "      <td>0.552941</td>\n",
              "      <td>0.674510</td>\n",
              "      <td>0.839216</td>\n",
              "      <td>0.682353</td>\n",
              "      <td>0.494118</td>\n",
              "      <td>0.517647</td>\n",
              "      <td>0.517647</td>\n",
              "      <td>0.521569</td>\n",
              "      <td>0.533333</td>\n",
              "      <td>0.545098</td>\n",
              "      <td>0.556863</td>\n",
              "      <td>0.560784</td>\n",
              "      <td>0.556863</td>\n",
              "      <td>4</td>\n",
              "    </tr>\n",
              "    <tr>\n",
              "      <th>4</th>\n",
              "      <td>0.015686</td>\n",
              "      <td>0.000000</td>\n",
              "      <td>0.000000</td>\n",
              "      <td>0.000000</td>\n",
              "      <td>0.000000</td>\n",
              "      <td>0.000000</td>\n",
              "      <td>0.000000</td>\n",
              "      <td>0.000000</td>\n",
              "      <td>0.000000</td>\n",
              "      <td>0.000000</td>\n",
              "      <td>0.000000</td>\n",
              "      <td>0.000000</td>\n",
              "      <td>0.011765</td>\n",
              "      <td>0.058824</td>\n",
              "      <td>0.090196</td>\n",
              "      <td>0.109804</td>\n",
              "      <td>0.188235</td>\n",
              "      <td>0.196078</td>\n",
              "      <td>0.227451</td>\n",
              "      <td>0.329412</td>\n",
              "      <td>0.450980</td>\n",
              "      <td>0.498039</td>\n",
              "      <td>0.537255</td>\n",
              "      <td>0.556863</td>\n",
              "      <td>0.592157</td>\n",
              "      <td>0.611765</td>\n",
              "      <td>0.607843</td>\n",
              "      <td>0.584314</td>\n",
              "      <td>0.600000</td>\n",
              "      <td>0.596078</td>\n",
              "      <td>0.615686</td>\n",
              "      <td>0.627451</td>\n",
              "      <td>0.635294</td>\n",
              "      <td>0.623529</td>\n",
              "      <td>0.568627</td>\n",
              "      <td>0.474510</td>\n",
              "      <td>0.325490</td>\n",
              "      <td>0.227451</td>\n",
              "      <td>0.188235</td>\n",
              "      <td>0.149020</td>\n",
              "      <td>...</td>\n",
              "      <td>0.105882</td>\n",
              "      <td>0.074510</td>\n",
              "      <td>0.050980</td>\n",
              "      <td>0.043137</td>\n",
              "      <td>0.086275</td>\n",
              "      <td>0.145098</td>\n",
              "      <td>0.188235</td>\n",
              "      <td>0.215686</td>\n",
              "      <td>0.262745</td>\n",
              "      <td>0.345098</td>\n",
              "      <td>0.372549</td>\n",
              "      <td>0.439216</td>\n",
              "      <td>0.462745</td>\n",
              "      <td>0.482353</td>\n",
              "      <td>0.552941</td>\n",
              "      <td>0.615686</td>\n",
              "      <td>0.682353</td>\n",
              "      <td>0.709804</td>\n",
              "      <td>0.725490</td>\n",
              "      <td>0.721569</td>\n",
              "      <td>0.701961</td>\n",
              "      <td>0.690196</td>\n",
              "      <td>0.670588</td>\n",
              "      <td>0.607843</td>\n",
              "      <td>0.501961</td>\n",
              "      <td>0.411765</td>\n",
              "      <td>0.039216</td>\n",
              "      <td>0.000000</td>\n",
              "      <td>0.000000</td>\n",
              "      <td>0.047059</td>\n",
              "      <td>0.133333</td>\n",
              "      <td>0.121569</td>\n",
              "      <td>0.121569</td>\n",
              "      <td>0.121569</td>\n",
              "      <td>0.105882</td>\n",
              "      <td>0.121569</td>\n",
              "      <td>0.117647</td>\n",
              "      <td>0.113725</td>\n",
              "      <td>0.117647</td>\n",
              "      <td>6</td>\n",
              "    </tr>\n",
              "  </tbody>\n",
              "</table>\n",
              "<p>5 rows × 2305 columns</p>\n",
              "</div>"
            ],
            "text/plain": [
              "          0         1         2  ...      2302      2303  emotion\n",
              "0  0.274510  0.313725  0.321569  ...  0.427451  0.321569        0\n",
              "1  0.592157  0.588235  0.576471  ...  0.717647  0.721569        0\n",
              "2  0.905882  0.831373  0.611765  ...  0.431373  0.596078        2\n",
              "3  0.094118  0.125490  0.141176  ...  0.560784  0.556863        4\n",
              "4  0.015686  0.000000  0.000000  ...  0.113725  0.117647        6\n",
              "\n",
              "[5 rows x 2305 columns]"
            ]
          },
          "metadata": {
            "tags": []
          },
          "execution_count": 19
        }
      ]
    },
    {
      "cell_type": "code",
      "metadata": {
        "colab": {
          "base_uri": "https://localhost:8080/",
          "height": 253
        },
        "id": "JJ6zyv5e6CLR",
        "outputId": "9ea0818f-b698-412d-e72f-d63cd5e38074"
      },
      "source": [
        "val.head()"
      ],
      "execution_count": 20,
      "outputs": [
        {
          "output_type": "execute_result",
          "data": {
            "text/html": [
              "<div>\n",
              "<style scoped>\n",
              "    .dataframe tbody tr th:only-of-type {\n",
              "        vertical-align: middle;\n",
              "    }\n",
              "\n",
              "    .dataframe tbody tr th {\n",
              "        vertical-align: top;\n",
              "    }\n",
              "\n",
              "    .dataframe thead th {\n",
              "        text-align: right;\n",
              "    }\n",
              "</style>\n",
              "<table border=\"1\" class=\"dataframe\">\n",
              "  <thead>\n",
              "    <tr style=\"text-align: right;\">\n",
              "      <th></th>\n",
              "      <th>0</th>\n",
              "      <th>1</th>\n",
              "      <th>2</th>\n",
              "      <th>3</th>\n",
              "      <th>4</th>\n",
              "      <th>5</th>\n",
              "      <th>6</th>\n",
              "      <th>7</th>\n",
              "      <th>8</th>\n",
              "      <th>9</th>\n",
              "      <th>10</th>\n",
              "      <th>11</th>\n",
              "      <th>12</th>\n",
              "      <th>13</th>\n",
              "      <th>14</th>\n",
              "      <th>15</th>\n",
              "      <th>16</th>\n",
              "      <th>17</th>\n",
              "      <th>18</th>\n",
              "      <th>19</th>\n",
              "      <th>20</th>\n",
              "      <th>21</th>\n",
              "      <th>22</th>\n",
              "      <th>23</th>\n",
              "      <th>24</th>\n",
              "      <th>25</th>\n",
              "      <th>26</th>\n",
              "      <th>27</th>\n",
              "      <th>28</th>\n",
              "      <th>29</th>\n",
              "      <th>30</th>\n",
              "      <th>31</th>\n",
              "      <th>32</th>\n",
              "      <th>33</th>\n",
              "      <th>34</th>\n",
              "      <th>35</th>\n",
              "      <th>36</th>\n",
              "      <th>37</th>\n",
              "      <th>38</th>\n",
              "      <th>39</th>\n",
              "      <th>...</th>\n",
              "      <th>2265</th>\n",
              "      <th>2266</th>\n",
              "      <th>2267</th>\n",
              "      <th>2268</th>\n",
              "      <th>2269</th>\n",
              "      <th>2270</th>\n",
              "      <th>2271</th>\n",
              "      <th>2272</th>\n",
              "      <th>2273</th>\n",
              "      <th>2274</th>\n",
              "      <th>2275</th>\n",
              "      <th>2276</th>\n",
              "      <th>2277</th>\n",
              "      <th>2278</th>\n",
              "      <th>2279</th>\n",
              "      <th>2280</th>\n",
              "      <th>2281</th>\n",
              "      <th>2282</th>\n",
              "      <th>2283</th>\n",
              "      <th>2284</th>\n",
              "      <th>2285</th>\n",
              "      <th>2286</th>\n",
              "      <th>2287</th>\n",
              "      <th>2288</th>\n",
              "      <th>2289</th>\n",
              "      <th>2290</th>\n",
              "      <th>2291</th>\n",
              "      <th>2292</th>\n",
              "      <th>2293</th>\n",
              "      <th>2294</th>\n",
              "      <th>2295</th>\n",
              "      <th>2296</th>\n",
              "      <th>2297</th>\n",
              "      <th>2298</th>\n",
              "      <th>2299</th>\n",
              "      <th>2300</th>\n",
              "      <th>2301</th>\n",
              "      <th>2302</th>\n",
              "      <th>2303</th>\n",
              "      <th>emotion</th>\n",
              "    </tr>\n",
              "  </thead>\n",
              "  <tbody>\n",
              "    <tr>\n",
              "      <th>28709</th>\n",
              "      <td>0.996078</td>\n",
              "      <td>0.996078</td>\n",
              "      <td>0.996078</td>\n",
              "      <td>0.996078</td>\n",
              "      <td>0.996078</td>\n",
              "      <td>0.976471</td>\n",
              "      <td>1.000000</td>\n",
              "      <td>0.627451</td>\n",
              "      <td>0.007843</td>\n",
              "      <td>0.227451</td>\n",
              "      <td>0.207843</td>\n",
              "      <td>0.274510</td>\n",
              "      <td>0.301961</td>\n",
              "      <td>0.298039</td>\n",
              "      <td>0.294118</td>\n",
              "      <td>0.305882</td>\n",
              "      <td>0.266667</td>\n",
              "      <td>0.070588</td>\n",
              "      <td>0.125490</td>\n",
              "      <td>0.113725</td>\n",
              "      <td>0.000000</td>\n",
              "      <td>0.211765</td>\n",
              "      <td>0.286275</td>\n",
              "      <td>0.294118</td>\n",
              "      <td>0.282353</td>\n",
              "      <td>0.266667</td>\n",
              "      <td>0.294118</td>\n",
              "      <td>0.301961</td>\n",
              "      <td>0.298039</td>\n",
              "      <td>0.298039</td>\n",
              "      <td>0.294118</td>\n",
              "      <td>0.313725</td>\n",
              "      <td>0.200000</td>\n",
              "      <td>0.141176</td>\n",
              "      <td>0.184314</td>\n",
              "      <td>0.156863</td>\n",
              "      <td>0.172549</td>\n",
              "      <td>0.164706</td>\n",
              "      <td>0.145098</td>\n",
              "      <td>0.188235</td>\n",
              "      <td>...</td>\n",
              "      <td>0.792157</td>\n",
              "      <td>0.780392</td>\n",
              "      <td>0.227451</td>\n",
              "      <td>0.960784</td>\n",
              "      <td>0.909804</td>\n",
              "      <td>0.247059</td>\n",
              "      <td>0.560784</td>\n",
              "      <td>0.945098</td>\n",
              "      <td>0.803922</td>\n",
              "      <td>0.827451</td>\n",
              "      <td>0.839216</td>\n",
              "      <td>0.839216</td>\n",
              "      <td>0.827451</td>\n",
              "      <td>0.823529</td>\n",
              "      <td>0.823529</td>\n",
              "      <td>0.831373</td>\n",
              "      <td>0.862745</td>\n",
              "      <td>0.831373</td>\n",
              "      <td>0.501961</td>\n",
              "      <td>0.505882</td>\n",
              "      <td>0.784314</td>\n",
              "      <td>0.709804</td>\n",
              "      <td>0.482353</td>\n",
              "      <td>0.219608</td>\n",
              "      <td>0.349020</td>\n",
              "      <td>0.372549</td>\n",
              "      <td>0.337255</td>\n",
              "      <td>0.188235</td>\n",
              "      <td>0.352941</td>\n",
              "      <td>0.352941</td>\n",
              "      <td>0.360784</td>\n",
              "      <td>0.388235</td>\n",
              "      <td>0.329412</td>\n",
              "      <td>0.086275</td>\n",
              "      <td>0.000000</td>\n",
              "      <td>0.000000</td>\n",
              "      <td>0.164706</td>\n",
              "      <td>0.505882</td>\n",
              "      <td>0.705882</td>\n",
              "      <td>0</td>\n",
              "    </tr>\n",
              "    <tr>\n",
              "      <th>28710</th>\n",
              "      <td>0.611765</td>\n",
              "      <td>0.721569</td>\n",
              "      <td>0.776471</td>\n",
              "      <td>0.792157</td>\n",
              "      <td>0.800000</td>\n",
              "      <td>0.811765</td>\n",
              "      <td>0.823529</td>\n",
              "      <td>0.831373</td>\n",
              "      <td>0.835294</td>\n",
              "      <td>0.839216</td>\n",
              "      <td>0.843137</td>\n",
              "      <td>0.839216</td>\n",
              "      <td>0.839216</td>\n",
              "      <td>0.835294</td>\n",
              "      <td>0.847059</td>\n",
              "      <td>0.850980</td>\n",
              "      <td>0.854902</td>\n",
              "      <td>0.850980</td>\n",
              "      <td>0.847059</td>\n",
              "      <td>0.839216</td>\n",
              "      <td>0.835294</td>\n",
              "      <td>0.839216</td>\n",
              "      <td>0.835294</td>\n",
              "      <td>0.839216</td>\n",
              "      <td>0.843137</td>\n",
              "      <td>0.827451</td>\n",
              "      <td>0.811765</td>\n",
              "      <td>0.803922</td>\n",
              "      <td>0.800000</td>\n",
              "      <td>0.792157</td>\n",
              "      <td>0.776471</td>\n",
              "      <td>0.764706</td>\n",
              "      <td>0.756863</td>\n",
              "      <td>0.745098</td>\n",
              "      <td>0.721569</td>\n",
              "      <td>0.705882</td>\n",
              "      <td>0.690196</td>\n",
              "      <td>0.682353</td>\n",
              "      <td>0.674510</td>\n",
              "      <td>0.658824</td>\n",
              "      <td>...</td>\n",
              "      <td>0.525490</td>\n",
              "      <td>0.000000</td>\n",
              "      <td>0.031373</td>\n",
              "      <td>0.019608</td>\n",
              "      <td>0.019608</td>\n",
              "      <td>0.023529</td>\n",
              "      <td>0.027451</td>\n",
              "      <td>0.015686</td>\n",
              "      <td>0.019608</td>\n",
              "      <td>0.031373</td>\n",
              "      <td>0.007843</td>\n",
              "      <td>0.047059</td>\n",
              "      <td>0.552941</td>\n",
              "      <td>0.737255</td>\n",
              "      <td>0.745098</td>\n",
              "      <td>0.756863</td>\n",
              "      <td>0.752941</td>\n",
              "      <td>0.784314</td>\n",
              "      <td>0.807843</td>\n",
              "      <td>0.815686</td>\n",
              "      <td>0.811765</td>\n",
              "      <td>0.807843</td>\n",
              "      <td>0.803922</td>\n",
              "      <td>0.800000</td>\n",
              "      <td>0.807843</td>\n",
              "      <td>0.807843</td>\n",
              "      <td>0.807843</td>\n",
              "      <td>0.807843</td>\n",
              "      <td>0.800000</td>\n",
              "      <td>0.788235</td>\n",
              "      <td>0.780392</td>\n",
              "      <td>0.772549</td>\n",
              "      <td>0.756863</td>\n",
              "      <td>0.737255</td>\n",
              "      <td>0.721569</td>\n",
              "      <td>0.705882</td>\n",
              "      <td>0.674510</td>\n",
              "      <td>0.654902</td>\n",
              "      <td>0.631373</td>\n",
              "      <td>1</td>\n",
              "    </tr>\n",
              "    <tr>\n",
              "      <th>28711</th>\n",
              "      <td>0.270588</td>\n",
              "      <td>0.462745</td>\n",
              "      <td>0.239216</td>\n",
              "      <td>0.235294</td>\n",
              "      <td>0.376471</td>\n",
              "      <td>0.474510</td>\n",
              "      <td>0.403922</td>\n",
              "      <td>0.341176</td>\n",
              "      <td>0.403922</td>\n",
              "      <td>0.345098</td>\n",
              "      <td>0.274510</td>\n",
              "      <td>0.352941</td>\n",
              "      <td>0.450980</td>\n",
              "      <td>0.478431</td>\n",
              "      <td>0.482353</td>\n",
              "      <td>0.486275</td>\n",
              "      <td>0.505882</td>\n",
              "      <td>0.517647</td>\n",
              "      <td>0.521569</td>\n",
              "      <td>0.513725</td>\n",
              "      <td>0.513725</td>\n",
              "      <td>0.474510</td>\n",
              "      <td>0.443137</td>\n",
              "      <td>0.431373</td>\n",
              "      <td>0.396078</td>\n",
              "      <td>0.392157</td>\n",
              "      <td>0.388235</td>\n",
              "      <td>0.447059</td>\n",
              "      <td>0.443137</td>\n",
              "      <td>0.411765</td>\n",
              "      <td>0.415686</td>\n",
              "      <td>0.419608</td>\n",
              "      <td>0.470588</td>\n",
              "      <td>0.482353</td>\n",
              "      <td>0.486275</td>\n",
              "      <td>0.509804</td>\n",
              "      <td>0.541176</td>\n",
              "      <td>0.529412</td>\n",
              "      <td>0.533333</td>\n",
              "      <td>0.576471</td>\n",
              "      <td>...</td>\n",
              "      <td>0.364706</td>\n",
              "      <td>0.627451</td>\n",
              "      <td>0.623529</td>\n",
              "      <td>0.549020</td>\n",
              "      <td>0.533333</td>\n",
              "      <td>0.517647</td>\n",
              "      <td>0.478431</td>\n",
              "      <td>0.447059</td>\n",
              "      <td>0.454902</td>\n",
              "      <td>0.505882</td>\n",
              "      <td>0.501961</td>\n",
              "      <td>0.494118</td>\n",
              "      <td>0.498039</td>\n",
              "      <td>0.478431</td>\n",
              "      <td>0.458824</td>\n",
              "      <td>0.431373</td>\n",
              "      <td>0.431373</td>\n",
              "      <td>0.427451</td>\n",
              "      <td>0.431373</td>\n",
              "      <td>0.458824</td>\n",
              "      <td>0.470588</td>\n",
              "      <td>0.470588</td>\n",
              "      <td>0.478431</td>\n",
              "      <td>0.498039</td>\n",
              "      <td>0.501961</td>\n",
              "      <td>0.494118</td>\n",
              "      <td>0.447059</td>\n",
              "      <td>0.396078</td>\n",
              "      <td>0.368627</td>\n",
              "      <td>0.364706</td>\n",
              "      <td>0.364706</td>\n",
              "      <td>0.360784</td>\n",
              "      <td>0.352941</td>\n",
              "      <td>0.360784</td>\n",
              "      <td>0.364706</td>\n",
              "      <td>0.360784</td>\n",
              "      <td>0.345098</td>\n",
              "      <td>0.341176</td>\n",
              "      <td>0.352941</td>\n",
              "      <td>4</td>\n",
              "    </tr>\n",
              "    <tr>\n",
              "      <th>28712</th>\n",
              "      <td>0.803922</td>\n",
              "      <td>0.796078</td>\n",
              "      <td>0.925490</td>\n",
              "      <td>0.615686</td>\n",
              "      <td>0.325490</td>\n",
              "      <td>0.619608</td>\n",
              "      <td>0.470588</td>\n",
              "      <td>0.454902</td>\n",
              "      <td>0.368627</td>\n",
              "      <td>0.337255</td>\n",
              "      <td>0.607843</td>\n",
              "      <td>0.705882</td>\n",
              "      <td>0.803922</td>\n",
              "      <td>0.905882</td>\n",
              "      <td>0.858824</td>\n",
              "      <td>0.850980</td>\n",
              "      <td>0.745098</td>\n",
              "      <td>0.776471</td>\n",
              "      <td>0.815686</td>\n",
              "      <td>0.682353</td>\n",
              "      <td>0.623529</td>\n",
              "      <td>0.654902</td>\n",
              "      <td>0.827451</td>\n",
              "      <td>0.901961</td>\n",
              "      <td>0.843137</td>\n",
              "      <td>0.819608</td>\n",
              "      <td>0.764706</td>\n",
              "      <td>0.823529</td>\n",
              "      <td>0.792157</td>\n",
              "      <td>0.729412</td>\n",
              "      <td>0.733333</td>\n",
              "      <td>0.713725</td>\n",
              "      <td>0.725490</td>\n",
              "      <td>0.866667</td>\n",
              "      <td>0.898039</td>\n",
              "      <td>0.890196</td>\n",
              "      <td>0.854902</td>\n",
              "      <td>0.784314</td>\n",
              "      <td>0.752941</td>\n",
              "      <td>0.611765</td>\n",
              "      <td>...</td>\n",
              "      <td>0.623529</td>\n",
              "      <td>0.670588</td>\n",
              "      <td>0.694118</td>\n",
              "      <td>0.694118</td>\n",
              "      <td>0.698039</td>\n",
              "      <td>0.713725</td>\n",
              "      <td>0.713725</td>\n",
              "      <td>0.709804</td>\n",
              "      <td>0.709804</td>\n",
              "      <td>0.705882</td>\n",
              "      <td>0.701961</td>\n",
              "      <td>0.709804</td>\n",
              "      <td>0.713725</td>\n",
              "      <td>0.705882</td>\n",
              "      <td>0.713725</td>\n",
              "      <td>0.713725</td>\n",
              "      <td>0.721569</td>\n",
              "      <td>0.756863</td>\n",
              "      <td>0.772549</td>\n",
              "      <td>0.776471</td>\n",
              "      <td>0.792157</td>\n",
              "      <td>0.796078</td>\n",
              "      <td>0.800000</td>\n",
              "      <td>0.800000</td>\n",
              "      <td>0.752941</td>\n",
              "      <td>0.631373</td>\n",
              "      <td>0.458824</td>\n",
              "      <td>0.721569</td>\n",
              "      <td>0.854902</td>\n",
              "      <td>0.811765</td>\n",
              "      <td>0.827451</td>\n",
              "      <td>0.835294</td>\n",
              "      <td>0.807843</td>\n",
              "      <td>0.768627</td>\n",
              "      <td>0.709804</td>\n",
              "      <td>0.439216</td>\n",
              "      <td>0.168627</td>\n",
              "      <td>0.321569</td>\n",
              "      <td>0.337255</td>\n",
              "      <td>6</td>\n",
              "    </tr>\n",
              "    <tr>\n",
              "      <th>28713</th>\n",
              "      <td>0.341176</td>\n",
              "      <td>0.309804</td>\n",
              "      <td>0.290196</td>\n",
              "      <td>0.258824</td>\n",
              "      <td>0.290196</td>\n",
              "      <td>0.376471</td>\n",
              "      <td>0.301961</td>\n",
              "      <td>0.313725</td>\n",
              "      <td>0.313725</td>\n",
              "      <td>0.329412</td>\n",
              "      <td>0.325490</td>\n",
              "      <td>0.349020</td>\n",
              "      <td>0.400000</td>\n",
              "      <td>0.356863</td>\n",
              "      <td>0.329412</td>\n",
              "      <td>0.400000</td>\n",
              "      <td>0.423529</td>\n",
              "      <td>0.419608</td>\n",
              "      <td>0.400000</td>\n",
              "      <td>0.349020</td>\n",
              "      <td>0.376471</td>\n",
              "      <td>0.501961</td>\n",
              "      <td>0.596078</td>\n",
              "      <td>0.690196</td>\n",
              "      <td>0.764706</td>\n",
              "      <td>0.811765</td>\n",
              "      <td>0.839216</td>\n",
              "      <td>0.862745</td>\n",
              "      <td>0.870588</td>\n",
              "      <td>0.878431</td>\n",
              "      <td>0.870588</td>\n",
              "      <td>0.862745</td>\n",
              "      <td>0.847059</td>\n",
              "      <td>0.839216</td>\n",
              "      <td>0.803922</td>\n",
              "      <td>0.772549</td>\n",
              "      <td>0.701961</td>\n",
              "      <td>0.576471</td>\n",
              "      <td>0.423529</td>\n",
              "      <td>0.227451</td>\n",
              "      <td>...</td>\n",
              "      <td>0.160784</td>\n",
              "      <td>0.450980</td>\n",
              "      <td>0.588235</td>\n",
              "      <td>0.592157</td>\n",
              "      <td>0.603922</td>\n",
              "      <td>0.615686</td>\n",
              "      <td>0.647059</td>\n",
              "      <td>0.674510</td>\n",
              "      <td>0.698039</td>\n",
              "      <td>0.690196</td>\n",
              "      <td>0.674510</td>\n",
              "      <td>0.639216</td>\n",
              "      <td>0.615686</td>\n",
              "      <td>0.611765</td>\n",
              "      <td>0.592157</td>\n",
              "      <td>0.584314</td>\n",
              "      <td>0.584314</td>\n",
              "      <td>0.596078</td>\n",
              "      <td>0.639216</td>\n",
              "      <td>0.541176</td>\n",
              "      <td>0.231373</td>\n",
              "      <td>0.215686</td>\n",
              "      <td>0.219608</td>\n",
              "      <td>0.137255</td>\n",
              "      <td>0.129412</td>\n",
              "      <td>0.121569</td>\n",
              "      <td>0.121569</td>\n",
              "      <td>0.129412</td>\n",
              "      <td>0.129412</td>\n",
              "      <td>0.129412</td>\n",
              "      <td>0.125490</td>\n",
              "      <td>0.129412</td>\n",
              "      <td>0.137255</td>\n",
              "      <td>0.149020</td>\n",
              "      <td>0.156863</td>\n",
              "      <td>0.176471</td>\n",
              "      <td>0.160784</td>\n",
              "      <td>0.133333</td>\n",
              "      <td>0.125490</td>\n",
              "      <td>3</td>\n",
              "    </tr>\n",
              "  </tbody>\n",
              "</table>\n",
              "<p>5 rows × 2305 columns</p>\n",
              "</div>"
            ],
            "text/plain": [
              "              0         1         2  ...      2302      2303  emotion\n",
              "28709  0.996078  0.996078  0.996078  ...  0.505882  0.705882        0\n",
              "28710  0.611765  0.721569  0.776471  ...  0.654902  0.631373        1\n",
              "28711  0.270588  0.462745  0.239216  ...  0.341176  0.352941        4\n",
              "28712  0.803922  0.796078  0.925490  ...  0.321569  0.337255        6\n",
              "28713  0.341176  0.309804  0.290196  ...  0.133333  0.125490        3\n",
              "\n",
              "[5 rows x 2305 columns]"
            ]
          },
          "metadata": {
            "tags": []
          },
          "execution_count": 20
        }
      ]
    },
    {
      "cell_type": "code",
      "metadata": {
        "colab": {
          "base_uri": "https://localhost:8080/",
          "height": 253
        },
        "id": "AUDcwC7_5_qB",
        "outputId": "307f49fe-9456-4665-8b51-124951c135d9"
      },
      "source": [
        "test.head()"
      ],
      "execution_count": 21,
      "outputs": [
        {
          "output_type": "execute_result",
          "data": {
            "text/html": [
              "<div>\n",
              "<style scoped>\n",
              "    .dataframe tbody tr th:only-of-type {\n",
              "        vertical-align: middle;\n",
              "    }\n",
              "\n",
              "    .dataframe tbody tr th {\n",
              "        vertical-align: top;\n",
              "    }\n",
              "\n",
              "    .dataframe thead th {\n",
              "        text-align: right;\n",
              "    }\n",
              "</style>\n",
              "<table border=\"1\" class=\"dataframe\">\n",
              "  <thead>\n",
              "    <tr style=\"text-align: right;\">\n",
              "      <th></th>\n",
              "      <th>0</th>\n",
              "      <th>1</th>\n",
              "      <th>2</th>\n",
              "      <th>3</th>\n",
              "      <th>4</th>\n",
              "      <th>5</th>\n",
              "      <th>6</th>\n",
              "      <th>7</th>\n",
              "      <th>8</th>\n",
              "      <th>9</th>\n",
              "      <th>10</th>\n",
              "      <th>11</th>\n",
              "      <th>12</th>\n",
              "      <th>13</th>\n",
              "      <th>14</th>\n",
              "      <th>15</th>\n",
              "      <th>16</th>\n",
              "      <th>17</th>\n",
              "      <th>18</th>\n",
              "      <th>19</th>\n",
              "      <th>20</th>\n",
              "      <th>21</th>\n",
              "      <th>22</th>\n",
              "      <th>23</th>\n",
              "      <th>24</th>\n",
              "      <th>25</th>\n",
              "      <th>26</th>\n",
              "      <th>27</th>\n",
              "      <th>28</th>\n",
              "      <th>29</th>\n",
              "      <th>30</th>\n",
              "      <th>31</th>\n",
              "      <th>32</th>\n",
              "      <th>33</th>\n",
              "      <th>34</th>\n",
              "      <th>35</th>\n",
              "      <th>36</th>\n",
              "      <th>37</th>\n",
              "      <th>38</th>\n",
              "      <th>39</th>\n",
              "      <th>...</th>\n",
              "      <th>2265</th>\n",
              "      <th>2266</th>\n",
              "      <th>2267</th>\n",
              "      <th>2268</th>\n",
              "      <th>2269</th>\n",
              "      <th>2270</th>\n",
              "      <th>2271</th>\n",
              "      <th>2272</th>\n",
              "      <th>2273</th>\n",
              "      <th>2274</th>\n",
              "      <th>2275</th>\n",
              "      <th>2276</th>\n",
              "      <th>2277</th>\n",
              "      <th>2278</th>\n",
              "      <th>2279</th>\n",
              "      <th>2280</th>\n",
              "      <th>2281</th>\n",
              "      <th>2282</th>\n",
              "      <th>2283</th>\n",
              "      <th>2284</th>\n",
              "      <th>2285</th>\n",
              "      <th>2286</th>\n",
              "      <th>2287</th>\n",
              "      <th>2288</th>\n",
              "      <th>2289</th>\n",
              "      <th>2290</th>\n",
              "      <th>2291</th>\n",
              "      <th>2292</th>\n",
              "      <th>2293</th>\n",
              "      <th>2294</th>\n",
              "      <th>2295</th>\n",
              "      <th>2296</th>\n",
              "      <th>2297</th>\n",
              "      <th>2298</th>\n",
              "      <th>2299</th>\n",
              "      <th>2300</th>\n",
              "      <th>2301</th>\n",
              "      <th>2302</th>\n",
              "      <th>2303</th>\n",
              "      <th>emotion</th>\n",
              "    </tr>\n",
              "  </thead>\n",
              "  <tbody>\n",
              "    <tr>\n",
              "      <th>32298</th>\n",
              "      <td>0.666667</td>\n",
              "      <td>0.462745</td>\n",
              "      <td>0.396078</td>\n",
              "      <td>0.345098</td>\n",
              "      <td>0.345098</td>\n",
              "      <td>0.294118</td>\n",
              "      <td>0.305882</td>\n",
              "      <td>0.321569</td>\n",
              "      <td>0.258824</td>\n",
              "      <td>0.290196</td>\n",
              "      <td>0.266667</td>\n",
              "      <td>0.231373</td>\n",
              "      <td>0.247059</td>\n",
              "      <td>0.250980</td>\n",
              "      <td>0.254902</td>\n",
              "      <td>0.352941</td>\n",
              "      <td>0.349020</td>\n",
              "      <td>0.286275</td>\n",
              "      <td>0.313725</td>\n",
              "      <td>0.313725</td>\n",
              "      <td>0.333333</td>\n",
              "      <td>0.345098</td>\n",
              "      <td>0.372549</td>\n",
              "      <td>0.458824</td>\n",
              "      <td>0.517647</td>\n",
              "      <td>0.572549</td>\n",
              "      <td>0.545098</td>\n",
              "      <td>0.596078</td>\n",
              "      <td>0.643137</td>\n",
              "      <td>0.709804</td>\n",
              "      <td>0.713725</td>\n",
              "      <td>0.760784</td>\n",
              "      <td>0.764706</td>\n",
              "      <td>0.635294</td>\n",
              "      <td>0.556863</td>\n",
              "      <td>0.576471</td>\n",
              "      <td>0.592157</td>\n",
              "      <td>0.580392</td>\n",
              "      <td>0.619608</td>\n",
              "      <td>0.498039</td>\n",
              "      <td>...</td>\n",
              "      <td>0.266667</td>\n",
              "      <td>0.384314</td>\n",
              "      <td>0.345098</td>\n",
              "      <td>0.298039</td>\n",
              "      <td>0.372549</td>\n",
              "      <td>0.447059</td>\n",
              "      <td>0.400000</td>\n",
              "      <td>0.427451</td>\n",
              "      <td>0.450980</td>\n",
              "      <td>0.474510</td>\n",
              "      <td>0.509804</td>\n",
              "      <td>0.545098</td>\n",
              "      <td>0.556863</td>\n",
              "      <td>0.568627</td>\n",
              "      <td>0.576471</td>\n",
              "      <td>0.584314</td>\n",
              "      <td>0.588235</td>\n",
              "      <td>0.615686</td>\n",
              "      <td>0.658824</td>\n",
              "      <td>0.658824</td>\n",
              "      <td>0.658824</td>\n",
              "      <td>0.654902</td>\n",
              "      <td>0.627451</td>\n",
              "      <td>0.564706</td>\n",
              "      <td>0.501961</td>\n",
              "      <td>0.494118</td>\n",
              "      <td>0.470588</td>\n",
              "      <td>0.439216</td>\n",
              "      <td>0.560784</td>\n",
              "      <td>0.823529</td>\n",
              "      <td>0.823529</td>\n",
              "      <td>0.870588</td>\n",
              "      <td>0.870588</td>\n",
              "      <td>0.800000</td>\n",
              "      <td>0.745098</td>\n",
              "      <td>0.682353</td>\n",
              "      <td>0.623529</td>\n",
              "      <td>0.521569</td>\n",
              "      <td>0.513725</td>\n",
              "      <td>0</td>\n",
              "    </tr>\n",
              "    <tr>\n",
              "      <th>32299</th>\n",
              "      <td>0.027451</td>\n",
              "      <td>0.019608</td>\n",
              "      <td>0.031373</td>\n",
              "      <td>0.023529</td>\n",
              "      <td>0.027451</td>\n",
              "      <td>0.011765</td>\n",
              "      <td>0.007843</td>\n",
              "      <td>0.023529</td>\n",
              "      <td>0.019608</td>\n",
              "      <td>0.015686</td>\n",
              "      <td>0.015686</td>\n",
              "      <td>0.019608</td>\n",
              "      <td>0.027451</td>\n",
              "      <td>0.019608</td>\n",
              "      <td>0.019608</td>\n",
              "      <td>0.019608</td>\n",
              "      <td>0.023529</td>\n",
              "      <td>0.027451</td>\n",
              "      <td>0.027451</td>\n",
              "      <td>0.027451</td>\n",
              "      <td>0.039216</td>\n",
              "      <td>0.039216</td>\n",
              "      <td>0.031373</td>\n",
              "      <td>0.023529</td>\n",
              "      <td>0.031373</td>\n",
              "      <td>0.043137</td>\n",
              "      <td>0.047059</td>\n",
              "      <td>0.058824</td>\n",
              "      <td>0.035294</td>\n",
              "      <td>0.027451</td>\n",
              "      <td>0.062745</td>\n",
              "      <td>0.082353</td>\n",
              "      <td>0.035294</td>\n",
              "      <td>0.031373</td>\n",
              "      <td>0.050980</td>\n",
              "      <td>0.070588</td>\n",
              "      <td>0.090196</td>\n",
              "      <td>0.078431</td>\n",
              "      <td>0.090196</td>\n",
              "      <td>0.105882</td>\n",
              "      <td>...</td>\n",
              "      <td>0.109804</td>\n",
              "      <td>0.074510</td>\n",
              "      <td>0.047059</td>\n",
              "      <td>0.047059</td>\n",
              "      <td>0.043137</td>\n",
              "      <td>0.035294</td>\n",
              "      <td>0.035294</td>\n",
              "      <td>0.043137</td>\n",
              "      <td>0.039216</td>\n",
              "      <td>0.039216</td>\n",
              "      <td>0.054902</td>\n",
              "      <td>0.070588</td>\n",
              "      <td>0.074510</td>\n",
              "      <td>0.070588</td>\n",
              "      <td>0.054902</td>\n",
              "      <td>0.070588</td>\n",
              "      <td>0.094118</td>\n",
              "      <td>0.082353</td>\n",
              "      <td>0.050980</td>\n",
              "      <td>0.078431</td>\n",
              "      <td>0.227451</td>\n",
              "      <td>0.321569</td>\n",
              "      <td>0.352941</td>\n",
              "      <td>0.364706</td>\n",
              "      <td>0.352941</td>\n",
              "      <td>0.341176</td>\n",
              "      <td>0.309804</td>\n",
              "      <td>0.333333</td>\n",
              "      <td>0.294118</td>\n",
              "      <td>0.160784</td>\n",
              "      <td>0.145098</td>\n",
              "      <td>0.298039</td>\n",
              "      <td>0.345098</td>\n",
              "      <td>0.329412</td>\n",
              "      <td>0.345098</td>\n",
              "      <td>0.321569</td>\n",
              "      <td>0.282353</td>\n",
              "      <td>0.223529</td>\n",
              "      <td>0.203922</td>\n",
              "      <td>5</td>\n",
              "    </tr>\n",
              "    <tr>\n",
              "      <th>32300</th>\n",
              "      <td>0.909804</td>\n",
              "      <td>0.941176</td>\n",
              "      <td>0.945098</td>\n",
              "      <td>0.937255</td>\n",
              "      <td>0.929412</td>\n",
              "      <td>0.921569</td>\n",
              "      <td>0.964706</td>\n",
              "      <td>0.458824</td>\n",
              "      <td>0.094118</td>\n",
              "      <td>0.094118</td>\n",
              "      <td>0.086275</td>\n",
              "      <td>0.050980</td>\n",
              "      <td>0.047059</td>\n",
              "      <td>0.054902</td>\n",
              "      <td>0.035294</td>\n",
              "      <td>0.031373</td>\n",
              "      <td>0.019608</td>\n",
              "      <td>0.023529</td>\n",
              "      <td>0.031373</td>\n",
              "      <td>0.035294</td>\n",
              "      <td>0.035294</td>\n",
              "      <td>0.027451</td>\n",
              "      <td>0.027451</td>\n",
              "      <td>0.023529</td>\n",
              "      <td>0.015686</td>\n",
              "      <td>0.015686</td>\n",
              "      <td>0.015686</td>\n",
              "      <td>0.019608</td>\n",
              "      <td>0.027451</td>\n",
              "      <td>0.015686</td>\n",
              "      <td>0.039216</td>\n",
              "      <td>0.047059</td>\n",
              "      <td>0.047059</td>\n",
              "      <td>0.058824</td>\n",
              "      <td>0.078431</td>\n",
              "      <td>0.054902</td>\n",
              "      <td>0.066667</td>\n",
              "      <td>0.141176</td>\n",
              "      <td>0.807843</td>\n",
              "      <td>0.952941</td>\n",
              "      <td>...</td>\n",
              "      <td>0.596078</td>\n",
              "      <td>0.556863</td>\n",
              "      <td>0.392157</td>\n",
              "      <td>0.109804</td>\n",
              "      <td>0.113725</td>\n",
              "      <td>0.105882</td>\n",
              "      <td>0.109804</td>\n",
              "      <td>0.098039</td>\n",
              "      <td>0.305882</td>\n",
              "      <td>0.078431</td>\n",
              "      <td>0.000000</td>\n",
              "      <td>0.070588</td>\n",
              "      <td>0.094118</td>\n",
              "      <td>0.043137</td>\n",
              "      <td>0.074510</td>\n",
              "      <td>0.141176</td>\n",
              "      <td>0.137255</td>\n",
              "      <td>0.145098</td>\n",
              "      <td>0.117647</td>\n",
              "      <td>0.219608</td>\n",
              "      <td>0.784314</td>\n",
              "      <td>0.815686</td>\n",
              "      <td>0.635294</td>\n",
              "      <td>0.149020</td>\n",
              "      <td>0.396078</td>\n",
              "      <td>0.356863</td>\n",
              "      <td>0.294118</td>\n",
              "      <td>0.419608</td>\n",
              "      <td>0.545098</td>\n",
              "      <td>0.250980</td>\n",
              "      <td>0.082353</td>\n",
              "      <td>0.349020</td>\n",
              "      <td>0.266667</td>\n",
              "      <td>0.180392</td>\n",
              "      <td>0.262745</td>\n",
              "      <td>0.007843</td>\n",
              "      <td>0.015686</td>\n",
              "      <td>0.015686</td>\n",
              "      <td>0.035294</td>\n",
              "      <td>6</td>\n",
              "    </tr>\n",
              "    <tr>\n",
              "      <th>32301</th>\n",
              "      <td>0.784314</td>\n",
              "      <td>0.772549</td>\n",
              "      <td>0.584314</td>\n",
              "      <td>0.545098</td>\n",
              "      <td>0.611765</td>\n",
              "      <td>0.349020</td>\n",
              "      <td>0.435294</td>\n",
              "      <td>0.227451</td>\n",
              "      <td>0.243137</td>\n",
              "      <td>0.372549</td>\n",
              "      <td>0.443137</td>\n",
              "      <td>0.458824</td>\n",
              "      <td>0.454902</td>\n",
              "      <td>0.454902</td>\n",
              "      <td>0.439216</td>\n",
              "      <td>0.435294</td>\n",
              "      <td>0.376471</td>\n",
              "      <td>0.337255</td>\n",
              "      <td>0.388235</td>\n",
              "      <td>0.443137</td>\n",
              "      <td>0.470588</td>\n",
              "      <td>0.458824</td>\n",
              "      <td>0.454902</td>\n",
              "      <td>0.427451</td>\n",
              "      <td>0.447059</td>\n",
              "      <td>0.490196</td>\n",
              "      <td>0.517647</td>\n",
              "      <td>0.533333</td>\n",
              "      <td>0.533333</td>\n",
              "      <td>0.517647</td>\n",
              "      <td>0.501961</td>\n",
              "      <td>0.501961</td>\n",
              "      <td>0.525490</td>\n",
              "      <td>0.517647</td>\n",
              "      <td>0.517647</td>\n",
              "      <td>0.533333</td>\n",
              "      <td>0.541176</td>\n",
              "      <td>0.537255</td>\n",
              "      <td>0.525490</td>\n",
              "      <td>0.529412</td>\n",
              "      <td>...</td>\n",
              "      <td>0.349020</td>\n",
              "      <td>0.388235</td>\n",
              "      <td>0.411765</td>\n",
              "      <td>0.415686</td>\n",
              "      <td>0.450980</td>\n",
              "      <td>0.458824</td>\n",
              "      <td>0.478431</td>\n",
              "      <td>0.525490</td>\n",
              "      <td>0.545098</td>\n",
              "      <td>0.537255</td>\n",
              "      <td>0.560784</td>\n",
              "      <td>0.580392</td>\n",
              "      <td>0.584314</td>\n",
              "      <td>0.584314</td>\n",
              "      <td>0.592157</td>\n",
              "      <td>0.576471</td>\n",
              "      <td>0.584314</td>\n",
              "      <td>0.615686</td>\n",
              "      <td>0.619608</td>\n",
              "      <td>0.572549</td>\n",
              "      <td>0.568627</td>\n",
              "      <td>0.576471</td>\n",
              "      <td>0.537255</td>\n",
              "      <td>0.533333</td>\n",
              "      <td>0.521569</td>\n",
              "      <td>0.501961</td>\n",
              "      <td>0.501961</td>\n",
              "      <td>0.478431</td>\n",
              "      <td>0.501961</td>\n",
              "      <td>0.556863</td>\n",
              "      <td>0.631373</td>\n",
              "      <td>0.725490</td>\n",
              "      <td>0.725490</td>\n",
              "      <td>0.419608</td>\n",
              "      <td>0.572549</td>\n",
              "      <td>0.564706</td>\n",
              "      <td>0.584314</td>\n",
              "      <td>0.129412</td>\n",
              "      <td>0.000000</td>\n",
              "      <td>4</td>\n",
              "    </tr>\n",
              "    <tr>\n",
              "      <th>32302</th>\n",
              "      <td>0.156863</td>\n",
              "      <td>0.109804</td>\n",
              "      <td>0.129412</td>\n",
              "      <td>0.219608</td>\n",
              "      <td>0.176471</td>\n",
              "      <td>0.129412</td>\n",
              "      <td>0.121569</td>\n",
              "      <td>0.305882</td>\n",
              "      <td>0.596078</td>\n",
              "      <td>0.760784</td>\n",
              "      <td>0.784314</td>\n",
              "      <td>0.729412</td>\n",
              "      <td>0.768627</td>\n",
              "      <td>0.811765</td>\n",
              "      <td>0.760784</td>\n",
              "      <td>0.725490</td>\n",
              "      <td>0.772549</td>\n",
              "      <td>0.725490</td>\n",
              "      <td>0.690196</td>\n",
              "      <td>0.654902</td>\n",
              "      <td>0.650980</td>\n",
              "      <td>0.635294</td>\n",
              "      <td>0.627451</td>\n",
              "      <td>0.592157</td>\n",
              "      <td>0.568627</td>\n",
              "      <td>0.556863</td>\n",
              "      <td>0.529412</td>\n",
              "      <td>0.525490</td>\n",
              "      <td>0.525490</td>\n",
              "      <td>0.513725</td>\n",
              "      <td>0.490196</td>\n",
              "      <td>0.478431</td>\n",
              "      <td>0.396078</td>\n",
              "      <td>0.282353</td>\n",
              "      <td>0.188235</td>\n",
              "      <td>0.125490</td>\n",
              "      <td>0.105882</td>\n",
              "      <td>0.086275</td>\n",
              "      <td>0.086275</td>\n",
              "      <td>0.090196</td>\n",
              "      <td>...</td>\n",
              "      <td>0.521569</td>\n",
              "      <td>0.525490</td>\n",
              "      <td>0.549020</td>\n",
              "      <td>0.490196</td>\n",
              "      <td>0.494118</td>\n",
              "      <td>0.564706</td>\n",
              "      <td>0.423529</td>\n",
              "      <td>0.368627</td>\n",
              "      <td>0.313725</td>\n",
              "      <td>0.235294</td>\n",
              "      <td>0.200000</td>\n",
              "      <td>0.203922</td>\n",
              "      <td>0.133333</td>\n",
              "      <td>0.168627</td>\n",
              "      <td>0.184314</td>\n",
              "      <td>0.156863</td>\n",
              "      <td>0.145098</td>\n",
              "      <td>0.129412</td>\n",
              "      <td>0.086275</td>\n",
              "      <td>0.094118</td>\n",
              "      <td>0.101961</td>\n",
              "      <td>0.101961</td>\n",
              "      <td>0.105882</td>\n",
              "      <td>0.101961</td>\n",
              "      <td>0.109804</td>\n",
              "      <td>0.101961</td>\n",
              "      <td>0.113725</td>\n",
              "      <td>0.121569</td>\n",
              "      <td>0.133333</td>\n",
              "      <td>0.098039</td>\n",
              "      <td>0.101961</td>\n",
              "      <td>0.113725</td>\n",
              "      <td>0.101961</td>\n",
              "      <td>0.109804</td>\n",
              "      <td>0.098039</td>\n",
              "      <td>0.094118</td>\n",
              "      <td>0.094118</td>\n",
              "      <td>0.113725</td>\n",
              "      <td>0.101961</td>\n",
              "      <td>2</td>\n",
              "    </tr>\n",
              "  </tbody>\n",
              "</table>\n",
              "<p>5 rows × 2305 columns</p>\n",
              "</div>"
            ],
            "text/plain": [
              "              0         1         2  ...      2302      2303  emotion\n",
              "32298  0.666667  0.462745  0.396078  ...  0.521569  0.513725        0\n",
              "32299  0.027451  0.019608  0.031373  ...  0.223529  0.203922        5\n",
              "32300  0.909804  0.941176  0.945098  ...  0.015686  0.035294        6\n",
              "32301  0.784314  0.772549  0.584314  ...  0.129412  0.000000        4\n",
              "32302  0.156863  0.109804  0.129412  ...  0.113725  0.101961        2\n",
              "\n",
              "[5 rows x 2305 columns]"
            ]
          },
          "metadata": {
            "tags": []
          },
          "execution_count": 21
        }
      ]
    },
    {
      "cell_type": "code",
      "metadata": {
        "colab": {
          "base_uri": "https://localhost:8080/",
          "height": 758
        },
        "id": "vX93N8ie6FwB",
        "outputId": "6c966e2e-826f-4b08-ddbb-4961e359b24e"
      },
      "source": [
        "ar=train['emotion'].value_counts().values\r\n",
        "arx=train['emotion'].value_counts().index\r\n",
        "plt.title('train image')\r\n",
        "plt.pie(ar,labels=arx)\r\n",
        "plt.show()\r\n",
        "ar=val['emotion'].value_counts().values\r\n",
        "arx=val['emotion'].value_counts().index\r\n",
        "plt.title('val image')\r\n",
        "plt.pie(ar,labels=arx)\r\n",
        "plt.show()\r\n",
        "ar=test['emotion'].value_counts().values\r\n",
        "arx=test['emotion'].value_counts().index\r\n",
        "plt.title('test image')\r\n",
        "plt.pie(ar,labels=arx)\r\n",
        "plt.show()"
      ],
      "execution_count": 22,
      "outputs": [
        {
          "output_type": "display_data",
          "data": {
            "image/png": "[encoded data removed]",
            "text/plain": [
              "<Figure size 432x288 with 1 Axes>"
            ]
          },
          "metadata": {
            "tags": []
          }
        },
        {
          "output_type": "display_data",
          "data": {
            "image/png": "[encoded data removed]",
            "text/plain": [
              "<Figure size 432x288 with 1 Axes>"
            ]
          },
          "metadata": {
            "tags": []
          }
        },
        {
          "output_type": "display_data",
          "data": {
            "image/png": "[encoded data removed]",
            "text/plain": [
              "<Figure size 432x288 with 1 Axes>"
            ]
          },
          "metadata": {
            "tags": []
          }
        }
      ]
    },
    {
      "cell_type": "markdown",
      "metadata": {
        "id": "DZ3g7iRL692M"
      },
      "source": [
        "We can see that the emotions are well tuned in each dataset. \r\n",
        "\r\n",
        "Still it is a problem that the emotions are not same in number in the datasets."
      ]
    },
    {
      "cell_type": "code",
      "metadata": {
        "id": "Eu6ROieeVVwl"
      },
      "source": [
        "decoder=['anger', 'disgust', 'fear', 'happiness', 'neutral', 'sadness', 'surprise']  # as per the data description"
      ],
      "execution_count": 23,
      "outputs": []
    },
    {
      "cell_type": "code",
      "metadata": {
        "colab": {
          "base_uri": "https://localhost:8080/",
          "height": 1000
        },
        "id": "hwt3TtZf7Oj7",
        "outputId": "f39cdfca-5087-4257-da45-7cb2b01ac3c2"
      },
      "source": [
        "for i in range(7):\r\n",
        "  xx=train[train['emotion']==i]\r\n",
        "  image=xx.head(1)\r\n",
        "  image.drop('emotion',1,inplace=True)\r\n",
        "  image=image.to_numpy()\r\n",
        "  image=image.reshape(48,48)\r\n",
        "  plt.title(decoder[i])\r\n",
        "  plt.imshow(image)\r\n",
        "  plt.show()"
      ],
      "execution_count": 24,
      "outputs": [
        {
          "output_type": "stream",
          "text": [
            "/usr/local/lib/python3.6/dist-packages/pandas/core/frame.py:4174: SettingWithCopyWarning: \n",
            "A value is trying to be set on a copy of a slice from a DataFrame\n",
            "\n",
            "See the caveats in the documentation: https://pandas.pydata.org/pandas-docs/stable/user_guide/indexing.html#returning-a-view-versus-a-copy\n",
            "  errors=errors,\n"
          ],
          "name": "stderr"
        },
        {
          "output_type": "display_data",
          "data": {
            "image/png": "[encoded data removed]",
            "text/plain": [
              "<Figure size 432x288 with 1 Axes>"
            ]
          },
          "metadata": {
            "tags": [],
            "needs_background": "light"
          }
        },
        {
          "output_type": "stream",
          "text": [
            "/usr/local/lib/python3.6/dist-packages/pandas/core/frame.py:4174: SettingWithCopyWarning: \n",
            "A value is trying to be set on a copy of a slice from a DataFrame\n",
            "\n",
            "See the caveats in the documentation: https://pandas.pydata.org/pandas-docs/stable/user_guide/indexing.html#returning-a-view-versus-a-copy\n",
            "  errors=errors,\n"
          ],
          "name": "stderr"
        },
        {
          "output_type": "display_data",
          "data": {
            "image/png": "[encoded data removed]",
            "text/plain": [
              "<Figure size 432x288 with 1 Axes>"
            ]
          },
          "metadata": {
            "tags": [],
            "needs_background": "light"
          }
        },
        {
          "output_type": "stream",
          "text": [
            "/usr/local/lib/python3.6/dist-packages/pandas/core/frame.py:4174: SettingWithCopyWarning: \n",
            "A value is trying to be set on a copy of a slice from a DataFrame\n",
            "\n",
            "See the caveats in the documentation: https://pandas.pydata.org/pandas-docs/stable/user_guide/indexing.html#returning-a-view-versus-a-copy\n",
            "  errors=errors,\n"
          ],
          "name": "stderr"
        },
        {
          "output_type": "display_data",
          "data": {
            "image/png": "[encoded data removed]",
            "text/plain": [
              "<Figure size 432x288 with 1 Axes>"
            ]
          },
          "metadata": {
            "tags": [],
            "needs_background": "light"
          }
        },
        {
          "output_type": "stream",
          "text": [
            "/usr/local/lib/python3.6/dist-packages/pandas/core/frame.py:4174: SettingWithCopyWarning: \n",
            "A value is trying to be set on a copy of a slice from a DataFrame\n",
            "\n",
            "See the caveats in the documentation: https://pandas.pydata.org/pandas-docs/stable/user_guide/indexing.html#returning-a-view-versus-a-copy\n",
            "  errors=errors,\n"
          ],
          "name": "stderr"
        },
        {
          "output_type": "display_data",
          "data": {
            "image/png": "[encoded data removed]",
            "text/plain": [
              "<Figure size 432x288 with 1 Axes>"
            ]
          },
          "metadata": {
            "tags": [],
            "needs_background": "light"
          }
        },
        {
          "output_type": "stream",
          "text": [
            "/usr/local/lib/python3.6/dist-packages/pandas/core/frame.py:4174: SettingWithCopyWarning: \n",
            "A value is trying to be set on a copy of a slice from a DataFrame\n",
            "\n",
            "See the caveats in the documentation: https://pandas.pydata.org/pandas-docs/stable/user_guide/indexing.html#returning-a-view-versus-a-copy\n",
            "  errors=errors,\n"
          ],
          "name": "stderr"
        },
        {
          "output_type": "display_data",
          "data": {
            "image/png": "[encoded data removed]",
            "text/plain": [
              "<Figure size 432x288 with 1 Axes>"
            ]
          },
          "metadata": {
            "tags": [],
            "needs_background": "light"
          }
        },
        {
          "output_type": "stream",
          "text": [
            "/usr/local/lib/python3.6/dist-packages/pandas/core/frame.py:4174: SettingWithCopyWarning: \n",
            "A value is trying to be set on a copy of a slice from a DataFrame\n",
            "\n",
            "See the caveats in the documentation: https://pandas.pydata.org/pandas-docs/stable/user_guide/indexing.html#returning-a-view-versus-a-copy\n",
            "  errors=errors,\n"
          ],
          "name": "stderr"
        },
        {
          "output_type": "display_data",
          "data": {
            "image/png": "[encoded data removed]",
            "text/plain": [
              "<Figure size 432x288 with 1 Axes>"
            ]
          },
          "metadata": {
            "tags": [],
            "needs_background": "light"
          }
        },
        {
          "output_type": "stream",
          "text": [
            "/usr/local/lib/python3.6/dist-packages/pandas/core/frame.py:4174: SettingWithCopyWarning: \n",
            "A value is trying to be set on a copy of a slice from a DataFrame\n",
            "\n",
            "See the caveats in the documentation: https://pandas.pydata.org/pandas-docs/stable/user_guide/indexing.html#returning-a-view-versus-a-copy\n",
            "  errors=errors,\n"
          ],
          "name": "stderr"
        },
        {
          "output_type": "display_data",
          "data": {
            "image/png": "[encoded data removed]",
            "text/plain": [
              "<Figure size 432x288 with 1 Axes>"
            ]
          },
          "metadata": {
            "tags": [],
            "needs_background": "light"
          }
        }
      ]
    },
    {
      "cell_type": "markdown",
      "metadata": {
        "id": "bBlF4S1F8mYx"
      },
      "source": [
        "We can see the different moods / emotions of the persons in here"
      ]
    },
    {
      "cell_type": "code",
      "metadata": {
        "colab": {
          "base_uri": "https://localhost:8080/"
        },
        "id": "S-00lXWd9-ga",
        "outputId": "20047535-66c5-4005-fd25-9113e314292e"
      },
      "source": [
        "train['emotion'].head(10)"
      ],
      "execution_count": 25,
      "outputs": [
        {
          "output_type": "execute_result",
          "data": {
            "text/plain": [
              "0    0\n",
              "1    0\n",
              "2    2\n",
              "3    4\n",
              "4    6\n",
              "5    2\n",
              "6    4\n",
              "7    3\n",
              "8    3\n",
              "9    2\n",
              "Name: emotion, dtype: int64"
            ]
          },
          "metadata": {
            "tags": []
          },
          "execution_count": 25
        }
      ]
    },
    {
      "cell_type": "markdown",
      "metadata": {
        "id": "G8UGXOz7-FBK"
      },
      "source": [
        "Looks like the values has been well shuffled. So, we don't need any random shuffling, we can create the featureset and the target value."
      ]
    },
    {
      "cell_type": "code",
      "metadata": {
        "id": "CwCbLl7u8t_4"
      },
      "source": [
        "X_train=train.drop('emotion',1)\r\n",
        "y_train=train['emotion']\r\n",
        "X_val=val.drop('emotion',1)\r\n",
        "y_val=val['emotion']\r\n",
        "X_test=test.drop('emotion',1)\r\n",
        "y_test=test['emotion']"
      ],
      "execution_count": 26,
      "outputs": []
    },
    {
      "cell_type": "code",
      "metadata": {
        "id": "XtyPCyEG93ry"
      },
      "source": [
        "X_train=X_train.to_numpy()\r\n",
        "X_val=X_val.to_numpy()\r\n",
        "X_test=X_test.to_numpy()\r\n"
      ],
      "execution_count": 27,
      "outputs": []
    },
    {
      "cell_type": "code",
      "metadata": {
        "colab": {
          "base_uri": "https://localhost:8080/"
        },
        "id": "LpIT9MAEH8XW",
        "outputId": "40abfc44-ec70-4df6-a195-671d79f166f0"
      },
      "source": [
        "X_train.shape,X_val.shape,X_test.shape"
      ],
      "execution_count": 28,
      "outputs": [
        {
          "output_type": "execute_result",
          "data": {
            "text/plain": [
              "((28709, 2304), (3589, 2304), (3589, 2304))"
            ]
          },
          "metadata": {
            "tags": []
          },
          "execution_count": 28
        }
      ]
    },
    {
      "cell_type": "code",
      "metadata": {
        "id": "fe2v41z8IVoS"
      },
      "source": [
        "X_train=X_train.reshape(28709,48,48,1)\r\n",
        "X_val=X_val.reshape(3589,48,48,1)\r\n",
        "X_test=X_test.reshape(3589,48,48,1)"
      ],
      "execution_count": 29,
      "outputs": []
    },
    {
      "cell_type": "code",
      "metadata": {
        "id": "O1qWx91jIsW9"
      },
      "source": [
        "y_train=y_train.to_numpy()\r\n",
        "y_val=y_val.to_numpy()\r\n",
        "y_test=y_test.to_numpy()\r\n",
        "y_train=y_train.reshape(28709,1)\r\n",
        "y_val=y_val.reshape(3589,1)\r\n",
        "y_test=y_test.reshape(3589,1)"
      ],
      "execution_count": 30,
      "outputs": []
    },
    {
      "cell_type": "code",
      "metadata": {
        "colab": {
          "base_uri": "https://localhost:8080/",
          "height": 1000
        },
        "id": "L4z8xlG6MfXD",
        "outputId": "98cc5f78-fcb4-46a1-9fab-8a7a802fa6d6"
      },
      "source": [
        "for i in range(5):\r\n",
        "  plt.imshow(X_train[i].reshape(48,48))\r\n",
        "  plt.show()"
      ],
      "execution_count": 31,
      "outputs": [
        {
          "output_type": "display_data",
          "data": {
            "image/png": "[encoded data removed]",
            "text/plain": [
              "<Figure size 432x288 with 1 Axes>"
            ]
          },
          "metadata": {
            "tags": [],
            "needs_background": "light"
          }
        },
        {
          "output_type": "display_data",
          "data": {
            "image/png": "[encoded data removed]",
            "text/plain": [
              "<Figure size 432x288 with 1 Axes>"
            ]
          },
          "metadata": {
            "tags": [],
            "needs_background": "light"
          }
        },
        {
          "output_type": "display_data",
          "data": {
            "image/png": "[encoded data removed]",
            "text/plain": [
              "<Figure size 432x288 with 1 Axes>"
            ]
          },
          "metadata": {
            "tags": [],
            "needs_background": "light"
          }
        },
        {
          "output_type": "display_data",
          "data": {
            "image/png": "[encoded data removed]",
            "text/plain": [
              "<Figure size 432x288 with 1 Axes>"
            ]
          },
          "metadata": {
            "tags": [],
            "needs_background": "light"
          }
        },
        {
          "output_type": "display_data",
          "data": {
            "image/png": "[encoded data removed]",
            "text/plain": [
              "<Figure size 432x288 with 1 Axes>"
            ]
          },
          "metadata": {
            "tags": [],
            "needs_background": "light"
          }
        }
      ]
    },
    {
      "cell_type": "code",
      "metadata": {
        "id": "67k6ZO68McLF"
      },
      "source": [
        "model=Sequential()\r\n",
        "\r\n",
        "model.add(Conv2D(64,activation='relu',kernel_size=(3,3),input_shape=X_train[0].shape))\r\n",
        "model.add(Dense(64,activation='relu'))\r\n",
        "model.add(Dropout(0.25))\r\n",
        "model.add(Dense(64,activation='relu'))\r\n",
        "model.add(Dropout(0.5))\r\n",
        "model.add(Flatten())\r\n",
        "model.add(Dense(128,activation='relu'))\r\n",
        "model.add(Dense(7,activation='softmax'))"
      ],
      "execution_count": 32,
      "outputs": []
    },
    {
      "cell_type": "code",
      "metadata": {
        "colab": {
          "base_uri": "https://localhost:8080/"
        },
        "id": "ik0VsD-SMzd1",
        "outputId": "dc30a578-e62a-459f-9e9f-cb7c18cea66c"
      },
      "source": [
        "model.summary()"
      ],
      "execution_count": 33,
      "outputs": [
        {
          "output_type": "stream",
          "text": [
            "Model: \"sequential\"\n",
            "_________________________________________________________________\n",
            "Layer (type)                 Output Shape              Param #   \n",
            "=================================================================\n",
            "conv2d (Conv2D)              (None, 46, 46, 64)        640       \n",
            "_________________________________________________________________\n",
            "dense (Dense)                (None, 46, 46, 64)        4160      \n",
            "_________________________________________________________________\n",
            "dropout (Dropout)            (None, 46, 46, 64)        0         \n",
            "_________________________________________________________________\n",
            "dense_1 (Dense)              (None, 46, 46, 64)        4160      \n",
            "_________________________________________________________________\n",
            "dropout_1 (Dropout)          (None, 46, 46, 64)        0         \n",
            "_________________________________________________________________\n",
            "flatten (Flatten)            (None, 135424)            0         \n",
            "_________________________________________________________________\n",
            "dense_2 (Dense)              (None, 128)               17334400  \n",
            "_________________________________________________________________\n",
            "dense_3 (Dense)              (None, 7)                 903       \n",
            "=================================================================\n",
            "Total params: 17,344,263\n",
            "Trainable params: 17,344,263\n",
            "Non-trainable params: 0\n",
            "_________________________________________________________________\n"
          ],
          "name": "stdout"
        }
      ]
    },
    {
      "cell_type": "code",
      "metadata": {
        "id": "qtABFNQjM24u"
      },
      "source": [
        "model.compile(optimizer='adam',loss='sparse_categorical_crossentropy',metrics=['accuracy'])"
      ],
      "execution_count": 34,
      "outputs": []
    },
    {
      "cell_type": "code",
      "metadata": {
        "colab": {
          "base_uri": "https://localhost:8080/"
        },
        "id": "f2x00j31M-R7",
        "outputId": "18bd7ee3-7586-4e67-ddd8-7240d316551a"
      },
      "source": [
        "hist=model.fit(X_train,y_train,batch_size=10,epochs=10,verbose=1,validation_data=(X_val,y_val))"
      ],
      "execution_count": 35,
      "outputs": [
        {
          "output_type": "stream",
          "text": [
            "Epoch 1/10\n",
            "2871/2871 [==============================] - 35s 10ms/step - loss: 1.7457 - accuracy: 0.2967 - val_loss: 1.5354 - val_accuracy: 0.3998\n",
            "Epoch 2/10\n",
            "2871/2871 [==============================] - 27s 9ms/step - loss: 1.4628 - accuracy: 0.4355 - val_loss: 1.4425 - val_accuracy: 0.4452\n",
            "Epoch 3/10\n",
            "2871/2871 [==============================] - 27s 9ms/step - loss: 1.2861 - accuracy: 0.5070 - val_loss: 1.4062 - val_accuracy: 0.4550\n",
            "Epoch 4/10\n",
            "2871/2871 [==============================] - 27s 9ms/step - loss: 1.1126 - accuracy: 0.5727 - val_loss: 1.4265 - val_accuracy: 0.4614\n",
            "Epoch 5/10\n",
            "2871/2871 [==============================] - 27s 9ms/step - loss: 0.9406 - accuracy: 0.6510 - val_loss: 1.4890 - val_accuracy: 0.4670\n",
            "Epoch 6/10\n",
            "2871/2871 [==============================] - 27s 9ms/step - loss: 0.8083 - accuracy: 0.7004 - val_loss: 1.6264 - val_accuracy: 0.4751\n",
            "Epoch 7/10\n",
            "2871/2871 [==============================] - 27s 9ms/step - loss: 0.6788 - accuracy: 0.7510 - val_loss: 1.7974 - val_accuracy: 0.4670\n",
            "Epoch 8/10\n",
            "2871/2871 [==============================] - 27s 9ms/step - loss: 0.5730 - accuracy: 0.7906 - val_loss: 1.8702 - val_accuracy: 0.4728\n",
            "Epoch 9/10\n",
            "2871/2871 [==============================] - 27s 9ms/step - loss: 0.4955 - accuracy: 0.8202 - val_loss: 1.9655 - val_accuracy: 0.4675\n",
            "Epoch 10/10\n",
            "2871/2871 [==============================] - 27s 9ms/step - loss: 0.4331 - accuracy: 0.8457 - val_loss: 2.0601 - val_accuracy: 0.4611\n"
          ],
          "name": "stdout"
        }
      ]
    },
    {
      "cell_type": "code",
      "metadata": {
        "colab": {
          "base_uri": "https://localhost:8080/",
          "height": 573
        },
        "id": "6e9OQOBEQFM8",
        "outputId": "9671754a-dd01-4515-dfba-1653797d0166"
      },
      "source": [
        "plt.title('Model Accuracy')\r\n",
        "plt.plot(range(1,11),hist.history['accuracy'])\r\n",
        "plt.plot(range(1,11),hist.history['val_accuracy'])\r\n",
        "plt.xlabel('Epoch')\r\n",
        "plt.ylabel('accuracy')\r\n",
        "plt.legend(labels=['train','validation'])\r\n",
        "plt.show()\r\n",
        "\r\n",
        "plt.title('Model Loss')\r\n",
        "plt.plot(range(1,11),hist.history['loss'])\r\n",
        "plt.plot(range(1,11),hist.history['val_loss'])\r\n",
        "plt.xlabel('Epoch')\r\n",
        "plt.ylabel('loss')\r\n",
        "plt.legend(labels=['train','validation'])\r\n",
        "plt.show()"
      ],
      "execution_count": 36,
      "outputs": [
        {
          "output_type": "display_data",
          "data": {
            "image/png": "[encoded data removed]",
            "text/plain": [
              "<Figure size 432x288 with 1 Axes>"
            ]
          },
          "metadata": {
            "tags": [],
            "needs_background": "light"
          }
        },
        {
          "output_type": "display_data",
          "data": {
            "image/png": "[encoded data removed]",
            "text/plain": [
              "<Figure size 432x288 with 1 Axes>"
            ]
          },
          "metadata": {
            "tags": [],
            "needs_background": "light"
          }
        }
      ]
    },
    {
      "cell_type": "code",
      "metadata": {
        "id": "74IxhyM3Pt9N"
      },
      "source": [
        "model=Sequential()\r\n",
        "model.add(Conv2D(filters=32,kernel_size=(3,3),activation='relu',input_shape=X_train[0].shape))\r\n",
        "model.add(Conv2D(filters=64,kernel_size=(3,3),activation='relu'))\r\n",
        "model.add(MaxPool2D(2,2))\r\n",
        "model.add(Dropout(0.25))     \r\n",
        "\r\n",
        "model.add(Flatten())                  \r\n",
        "model.add(Dense(128,activation='relu'))\r\n",
        "model.add(Dropout(0.5))\r\n",
        "model.add(Dense(7,activation='softmax'))   "
      ],
      "execution_count": 37,
      "outputs": []
    },
    {
      "cell_type": "code",
      "metadata": {
        "colab": {
          "base_uri": "https://localhost:8080/"
        },
        "id": "-B9Dw-UiP3SM",
        "outputId": "3c2be862-d281-4d7b-8f28-b3a28af551f4"
      },
      "source": [
        "model.summary()"
      ],
      "execution_count": 38,
      "outputs": [
        {
          "output_type": "stream",
          "text": [
            "Model: \"sequential_1\"\n",
            "_________________________________________________________________\n",
            "Layer (type)                 Output Shape              Param #   \n",
            "=================================================================\n",
            "conv2d_1 (Conv2D)            (None, 46, 46, 32)        320       \n",
            "_________________________________________________________________\n",
            "conv2d_2 (Conv2D)            (None, 44, 44, 64)        18496     \n",
            "_________________________________________________________________\n",
            "max_pooling2d (MaxPooling2D) (None, 22, 22, 64)        0         \n",
            "_________________________________________________________________\n",
            "dropout_2 (Dropout)          (None, 22, 22, 64)        0         \n",
            "_________________________________________________________________\n",
            "flatten_1 (Flatten)          (None, 30976)             0         \n",
            "_________________________________________________________________\n",
            "dense_4 (Dense)              (None, 128)               3965056   \n",
            "_________________________________________________________________\n",
            "dropout_3 (Dropout)          (None, 128)               0         \n",
            "_________________________________________________________________\n",
            "dense_5 (Dense)              (None, 7)                 903       \n",
            "=================================================================\n",
            "Total params: 3,984,775\n",
            "Trainable params: 3,984,775\n",
            "Non-trainable params: 0\n",
            "_________________________________________________________________\n"
          ],
          "name": "stdout"
        }
      ]
    },
    {
      "cell_type": "code",
      "metadata": {
        "id": "kqAjreE0P76L"
      },
      "source": [
        "model.compile(optimizer='adam',loss='sparse_categorical_crossentropy',metrics=['accuracy'])"
      ],
      "execution_count": 39,
      "outputs": []
    },
    {
      "cell_type": "code",
      "metadata": {
        "colab": {
          "base_uri": "https://localhost:8080/"
        },
        "id": "I_Ud6-_2QMPp",
        "outputId": "8c4d1260-6628-4f8e-9324-90c6ec00b905"
      },
      "source": [
        "hist=model.fit(X_train,y_train,batch_size=10,epochs=10,verbose=1,validation_data=(X_val,y_val))"
      ],
      "execution_count": 40,
      "outputs": [
        {
          "output_type": "stream",
          "text": [
            "Epoch 1/10\n",
            "2871/2871 [==============================] - 12s 4ms/step - loss: 1.7787 - accuracy: 0.2726 - val_loss: 1.4752 - val_accuracy: 0.4330\n",
            "Epoch 2/10\n",
            "2871/2871 [==============================] - 12s 4ms/step - loss: 1.5075 - accuracy: 0.4111 - val_loss: 1.3798 - val_accuracy: 0.4703\n",
            "Epoch 3/10\n",
            "2871/2871 [==============================] - 12s 4ms/step - loss: 1.4006 - accuracy: 0.4657 - val_loss: 1.3398 - val_accuracy: 0.4943\n",
            "Epoch 4/10\n",
            "2871/2871 [==============================] - 12s 4ms/step - loss: 1.3269 - accuracy: 0.4892 - val_loss: 1.3364 - val_accuracy: 0.4943\n",
            "Epoch 5/10\n",
            "2871/2871 [==============================] - 11s 4ms/step - loss: 1.2811 - accuracy: 0.5060 - val_loss: 1.3402 - val_accuracy: 0.4896\n",
            "Epoch 6/10\n",
            "2871/2871 [==============================] - 11s 4ms/step - loss: 1.2151 - accuracy: 0.5331 - val_loss: 1.3220 - val_accuracy: 0.4996\n",
            "Epoch 7/10\n",
            "2871/2871 [==============================] - 11s 4ms/step - loss: 1.1741 - accuracy: 0.5445 - val_loss: 1.3131 - val_accuracy: 0.5060\n",
            "Epoch 8/10\n",
            "2871/2871 [==============================] - 11s 4ms/step - loss: 1.1233 - accuracy: 0.5657 - val_loss: 1.3050 - val_accuracy: 0.5102\n",
            "Epoch 9/10\n",
            "2871/2871 [==============================] - 11s 4ms/step - loss: 1.0894 - accuracy: 0.5769 - val_loss: 1.3365 - val_accuracy: 0.5085\n",
            "Epoch 10/10\n",
            "2871/2871 [==============================] - 11s 4ms/step - loss: 1.0560 - accuracy: 0.5870 - val_loss: 1.3519 - val_accuracy: 0.5152\n"
          ],
          "name": "stdout"
        }
      ]
    },
    {
      "cell_type": "code",
      "metadata": {
        "colab": {
          "base_uri": "https://localhost:8080/",
          "height": 573
        },
        "id": "TJ_F7s_zQMJj",
        "outputId": "69874bcc-9d32-451a-866e-cd0489ebcda7"
      },
      "source": [
        "plt.title('Model Accuracy')\r\n",
        "plt.plot(range(1,11),hist.history['accuracy'])\r\n",
        "plt.plot(range(1,11),hist.history['val_accuracy'])\r\n",
        "plt.xlabel('Epoch')\r\n",
        "plt.ylabel('accuracy')\r\n",
        "plt.legend(labels=['train','validation'])\r\n",
        "plt.show()\r\n",
        "\r\n",
        "plt.title('Model Loss')\r\n",
        "plt.plot(range(1,11),hist.history['loss'])\r\n",
        "plt.plot(range(1,11),hist.history['val_loss'])\r\n",
        "plt.xlabel('Epoch')\r\n",
        "plt.ylabel('loss')\r\n",
        "plt.legend(labels=['train','validation'])\r\n",
        "plt.show()"
      ],
      "execution_count": 41,
      "outputs": [
        {
          "output_type": "display_data",
          "data": {
            "image/png": "[encoded data removed]",
            "text/plain": [
              "<Figure size 432x288 with 1 Axes>"
            ]
          },
          "metadata": {
            "tags": [],
            "needs_background": "light"
          }
        },
        {
          "output_type": "display_data",
          "data": {
            "image/png": "[encoded data removed]",
            "text/plain": [
              "<Figure size 432x288 with 1 Axes>"
            ]
          },
          "metadata": {
            "tags": [],
            "needs_background": "light"
          }
        }
      ]
    },
    {
      "cell_type": "code",
      "metadata": {
        "id": "G_Gy75wvRJwv"
      },
      "source": [
        "model=Sequential()\r\n",
        "model.add(Conv2D(filters=32,kernel_size=(3,3),activation='relu',input_shape=X_train[0].shape))\r\n",
        "model.add(MaxPool2D(2,2))\r\n",
        "model.add(Dropout(0.25))     \r\n",
        "model.add(Conv2D(filters=64,kernel_size=(3,3),activation='relu'))\r\n",
        "model.add(Flatten())                  \r\n",
        "model.add(Dense(128,activation='relu'))\r\n",
        "model.add(Dropout(0.5))\r\n",
        "model.add(Dense(7,activation='softmax'))  "
      ],
      "execution_count": 42,
      "outputs": []
    },
    {
      "cell_type": "code",
      "metadata": {
        "id": "dKP3U14BRRVY"
      },
      "source": [
        "model.compile(optimizer='adam',loss='sparse_categorical_crossentropy',metrics=['accuracy'])"
      ],
      "execution_count": 43,
      "outputs": []
    },
    {
      "cell_type": "code",
      "metadata": {
        "colab": {
          "base_uri": "https://localhost:8080/"
        },
        "id": "m3BGKpOoRTF9",
        "outputId": "35c7c734-16a1-44ca-f240-94ed4acf241b"
      },
      "source": [
        "hist=model.fit(X_train,y_train,batch_size=10,epochs=10,verbose=1,validation_data=(X_val,y_val))"
      ],
      "execution_count": 44,
      "outputs": [
        {
          "output_type": "stream",
          "text": [
            "Epoch 1/10\n",
            "2871/2871 [==============================] - 11s 4ms/step - loss: 1.7924 - accuracy: 0.2698 - val_loss: 1.5218 - val_accuracy: 0.4202\n",
            "Epoch 2/10\n",
            "2871/2871 [==============================] - 10s 3ms/step - loss: 1.5673 - accuracy: 0.3872 - val_loss: 1.4335 - val_accuracy: 0.4572\n",
            "Epoch 3/10\n",
            "2871/2871 [==============================] - 10s 3ms/step - loss: 1.4435 - accuracy: 0.4445 - val_loss: 1.3823 - val_accuracy: 0.4558\n",
            "Epoch 4/10\n",
            "2871/2871 [==============================] - 10s 3ms/step - loss: 1.3743 - accuracy: 0.4677 - val_loss: 1.3108 - val_accuracy: 0.4951\n",
            "Epoch 5/10\n",
            "2871/2871 [==============================] - 10s 3ms/step - loss: 1.3101 - accuracy: 0.5003 - val_loss: 1.3044 - val_accuracy: 0.5010\n",
            "Epoch 6/10\n",
            "2871/2871 [==============================] - 10s 3ms/step - loss: 1.2322 - accuracy: 0.5310 - val_loss: 1.2985 - val_accuracy: 0.5077\n",
            "Epoch 7/10\n",
            "2871/2871 [==============================] - 10s 3ms/step - loss: 1.1755 - accuracy: 0.5465 - val_loss: 1.2978 - val_accuracy: 0.5116\n",
            "Epoch 8/10\n",
            "2871/2871 [==============================] - 10s 3ms/step - loss: 1.1202 - accuracy: 0.5714 - val_loss: 1.3053 - val_accuracy: 0.5216\n",
            "Epoch 9/10\n",
            "2871/2871 [==============================] - 10s 3ms/step - loss: 1.0659 - accuracy: 0.5942 - val_loss: 1.3182 - val_accuracy: 0.5085\n",
            "Epoch 10/10\n",
            "2871/2871 [==============================] - 10s 3ms/step - loss: 1.0135 - accuracy: 0.6131 - val_loss: 1.3293 - val_accuracy: 0.5149\n"
          ],
          "name": "stdout"
        }
      ]
    },
    {
      "cell_type": "code",
      "metadata": {
        "colab": {
          "base_uri": "https://localhost:8080/",
          "height": 573
        },
        "id": "iQWSUuCjRzTN",
        "outputId": "fe8dfc99-4ab2-4ea4-df14-8f1bcdbbe3ed"
      },
      "source": [
        "plt.title('Model Accuracy')\r\n",
        "plt.plot(range(1,11),hist.history['accuracy'])\r\n",
        "plt.plot(range(1,11),hist.history['val_accuracy'])\r\n",
        "plt.xlabel('Epoch')\r\n",
        "plt.ylabel('accuracy')\r\n",
        "plt.legend(labels=['train','validation'])\r\n",
        "plt.show()\r\n",
        "\r\n",
        "plt.title('Model Loss')\r\n",
        "plt.plot(range(1,11),hist.history['loss'])\r\n",
        "plt.plot(range(1,11),hist.history['val_loss'])\r\n",
        "plt.xlabel('Epoch')\r\n",
        "plt.ylabel('loss')\r\n",
        "plt.legend(labels=['train','validation'])\r\n",
        "plt.show()"
      ],
      "execution_count": 45,
      "outputs": [
        {
          "output_type": "display_data",
          "data": {
            "image/png": "[encoded data removed]",
            "text/plain": [
              "<Figure size 432x288 with 1 Axes>"
            ]
          },
          "metadata": {
            "tags": [],
            "needs_background": "light"
          }
        },
        {
          "output_type": "display_data",
          "data": {
            "image/png": "[encoded data removed]",
            "text/plain": [
              "<Figure size 432x288 with 1 Axes>"
            ]
          },
          "metadata": {
            "tags": [],
            "needs_background": "light"
          }
        }
      ]
    },
    {
      "cell_type": "code",
      "metadata": {
        "id": "AonBXvsER3m-"
      },
      "source": [
        "model=Sequential()\r\n",
        "model.add(Conv2D(32,(3,3),activation='relu',input_shape=X_train[0].shape))\r\n",
        "model.add(Conv2D(32,(3,3),activation='relu'))\r\n",
        "model.add(MaxPool2D(2,2))\r\n",
        "model.add(Dropout(0.25))\r\n",
        "\r\n",
        "model.add(Conv2D(64,(3,3),activation='relu'))\r\n",
        "model.add(Conv2D(64,(3,3),activation='relu'))\r\n",
        "model.add(MaxPool2D(2,2))\r\n",
        "model.add(Dropout(0.25))\r\n",
        "\r\n",
        "model.add(Flatten())\r\n",
        "model.add(Dense(128,activation='relu'))\r\n",
        "model.add(Dropout(0.5))\r\n",
        "model.add(Dense(7,activation='softmax'))\r\n",
        "\r\n"
      ],
      "execution_count": 46,
      "outputs": []
    },
    {
      "cell_type": "code",
      "metadata": {
        "colab": {
          "base_uri": "https://localhost:8080/"
        },
        "id": "2rdkQa5AUDrA",
        "outputId": "c4ed2f9c-1ef7-4148-804e-bc82bef19341"
      },
      "source": [
        "model.summary()"
      ],
      "execution_count": 47,
      "outputs": [
        {
          "output_type": "stream",
          "text": [
            "Model: \"sequential_3\"\n",
            "_________________________________________________________________\n",
            "Layer (type)                 Output Shape              Param #   \n",
            "=================================================================\n",
            "conv2d_5 (Conv2D)            (None, 46, 46, 32)        320       \n",
            "_________________________________________________________________\n",
            "conv2d_6 (Conv2D)            (None, 44, 44, 32)        9248      \n",
            "_________________________________________________________________\n",
            "max_pooling2d_2 (MaxPooling2 (None, 22, 22, 32)        0         \n",
            "_________________________________________________________________\n",
            "dropout_6 (Dropout)          (None, 22, 22, 32)        0         \n",
            "_________________________________________________________________\n",
            "conv2d_7 (Conv2D)            (None, 20, 20, 64)        18496     \n",
            "_________________________________________________________________\n",
            "conv2d_8 (Conv2D)            (None, 18, 18, 64)        36928     \n",
            "_________________________________________________________________\n",
            "max_pooling2d_3 (MaxPooling2 (None, 9, 9, 64)          0         \n",
            "_________________________________________________________________\n",
            "dropout_7 (Dropout)          (None, 9, 9, 64)          0         \n",
            "_________________________________________________________________\n",
            "flatten_3 (Flatten)          (None, 5184)              0         \n",
            "_________________________________________________________________\n",
            "dense_8 (Dense)              (None, 128)               663680    \n",
            "_________________________________________________________________\n",
            "dropout_8 (Dropout)          (None, 128)               0         \n",
            "_________________________________________________________________\n",
            "dense_9 (Dense)              (None, 7)                 903       \n",
            "=================================================================\n",
            "Total params: 729,575\n",
            "Trainable params: 729,575\n",
            "Non-trainable params: 0\n",
            "_________________________________________________________________\n"
          ],
          "name": "stdout"
        }
      ]
    },
    {
      "cell_type": "code",
      "metadata": {
        "id": "cEIPdD0HSHI1"
      },
      "source": [
        "model.compile(optimizer='adam',loss='sparse_categorical_crossentropy',metrics=['accuracy'])"
      ],
      "execution_count": 48,
      "outputs": []
    },
    {
      "cell_type": "code",
      "metadata": {
        "colab": {
          "base_uri": "https://localhost:8080/"
        },
        "id": "W59qPIPEURxt",
        "outputId": "cd1def72-c426-4a1c-87aa-164e6baf5e95"
      },
      "source": [
        "hist=model.fit(X_train,y_train,batch_size=10,epochs=10,verbose=1,validation_data=(X_val,y_val))"
      ],
      "execution_count": 49,
      "outputs": [
        {
          "output_type": "stream",
          "text": [
            "Epoch 1/10\n",
            "2871/2871 [==============================] - 11s 4ms/step - loss: 1.7962 - accuracy: 0.2553 - val_loss: 1.5656 - val_accuracy: 0.3954\n",
            "Epoch 2/10\n",
            "2871/2871 [==============================] - 10s 4ms/step - loss: 1.5872 - accuracy: 0.3808 - val_loss: 1.4266 - val_accuracy: 0.4514\n",
            "Epoch 3/10\n",
            "2871/2871 [==============================] - 10s 4ms/step - loss: 1.4758 - accuracy: 0.4280 - val_loss: 1.3425 - val_accuracy: 0.4781\n",
            "Epoch 4/10\n",
            "2871/2871 [==============================] - 10s 4ms/step - loss: 1.3944 - accuracy: 0.4624 - val_loss: 1.3016 - val_accuracy: 0.5077\n",
            "Epoch 5/10\n",
            "2871/2871 [==============================] - 10s 4ms/step - loss: 1.3485 - accuracy: 0.4809 - val_loss: 1.2649 - val_accuracy: 0.5138\n",
            "Epoch 6/10\n",
            "2871/2871 [==============================] - 10s 4ms/step - loss: 1.3178 - accuracy: 0.4930 - val_loss: 1.2637 - val_accuracy: 0.5130\n",
            "Epoch 7/10\n",
            "2871/2871 [==============================] - 10s 4ms/step - loss: 1.2867 - accuracy: 0.5022 - val_loss: 1.2165 - val_accuracy: 0.5355\n",
            "Epoch 8/10\n",
            "2871/2871 [==============================] - 10s 4ms/step - loss: 1.2560 - accuracy: 0.5173 - val_loss: 1.2309 - val_accuracy: 0.5261\n",
            "Epoch 9/10\n",
            "2871/2871 [==============================] - 11s 4ms/step - loss: 1.2321 - accuracy: 0.5242 - val_loss: 1.2201 - val_accuracy: 0.5308\n",
            "Epoch 10/10\n",
            "2871/2871 [==============================] - 10s 4ms/step - loss: 1.2197 - accuracy: 0.5308 - val_loss: 1.2061 - val_accuracy: 0.5414\n"
          ],
          "name": "stdout"
        }
      ]
    },
    {
      "cell_type": "markdown",
      "metadata": {
        "id": "iT8wh6taUzsv"
      },
      "source": [
        "This model is working very good. we are going to increase the epoch and check again."
      ]
    },
    {
      "cell_type": "code",
      "metadata": {
        "id": "A3pNYQSRU6Q9"
      },
      "source": [
        "model=Sequential()\r\n",
        "model.add(Conv2D(32,(3,3),activation='relu',input_shape=X_train[0].shape))\r\n",
        "model.add(Conv2D(32,(3,3),activation='relu'))\r\n",
        "model.add(MaxPool2D(2,2))\r\n",
        "model.add(Dropout(0.25))\r\n",
        "\r\n",
        "model.add(Conv2D(64,(3,3),activation='relu'))\r\n",
        "model.add(Conv2D(64,(3,3),activation='relu'))\r\n",
        "model.add(MaxPool2D(2,2))\r\n",
        "model.add(Dropout(0.25))\r\n",
        "\r\n",
        "model.add(Flatten())\r\n",
        "model.add(Dense(128,activation='relu'))\r\n",
        "model.add(Dropout(0.5))\r\n",
        "model.add(Dense(7,activation='softmax'))\r\n",
        "\r\n"
      ],
      "execution_count": 50,
      "outputs": []
    },
    {
      "cell_type": "code",
      "metadata": {
        "id": "D_8yCF1qU-eG"
      },
      "source": [
        "model.compile(optimizer='adam',loss='sparse_categorical_crossentropy',metrics=['accuracy'])"
      ],
      "execution_count": 51,
      "outputs": []
    },
    {
      "cell_type": "code",
      "metadata": {
        "colab": {
          "base_uri": "https://localhost:8080/"
        },
        "id": "D3STM-pvVBD_",
        "outputId": "93724aeb-a62b-4825-b45f-2c40cebdb369"
      },
      "source": [
        "hist=model.fit(X_train,y_train,batch_size=10,epochs=20,verbose=1,validation_data=(X_val,y_val))"
      ],
      "execution_count": 52,
      "outputs": [
        {
          "output_type": "stream",
          "text": [
            "Epoch 1/20\n",
            "2871/2871 [==============================] - 11s 4ms/step - loss: 1.7887 - accuracy: 0.2670 - val_loss: 1.5250 - val_accuracy: 0.3954\n",
            "Epoch 2/20\n",
            "2871/2871 [==============================] - 10s 4ms/step - loss: 1.5588 - accuracy: 0.3903 - val_loss: 1.3969 - val_accuracy: 0.4767\n",
            "Epoch 3/20\n",
            "2871/2871 [==============================] - 10s 4ms/step - loss: 1.4349 - accuracy: 0.4433 - val_loss: 1.3120 - val_accuracy: 0.5040\n",
            "Epoch 4/20\n",
            "2871/2871 [==============================] - 10s 4ms/step - loss: 1.3666 - accuracy: 0.4719 - val_loss: 1.2922 - val_accuracy: 0.5104\n",
            "Epoch 5/20\n",
            "2871/2871 [==============================] - 10s 4ms/step - loss: 1.3071 - accuracy: 0.5019 - val_loss: 1.2466 - val_accuracy: 0.5291\n",
            "Epoch 6/20\n",
            "2871/2871 [==============================] - 10s 4ms/step - loss: 1.2748 - accuracy: 0.5122 - val_loss: 1.2076 - val_accuracy: 0.5405\n",
            "Epoch 7/20\n",
            "2871/2871 [==============================] - 10s 4ms/step - loss: 1.2457 - accuracy: 0.5213 - val_loss: 1.1956 - val_accuracy: 0.5397\n",
            "Epoch 8/20\n",
            "2871/2871 [==============================] - 10s 4ms/step - loss: 1.2177 - accuracy: 0.5413 - val_loss: 1.1976 - val_accuracy: 0.5453\n",
            "Epoch 9/20\n",
            "2871/2871 [==============================] - 10s 4ms/step - loss: 1.1912 - accuracy: 0.5439 - val_loss: 1.1928 - val_accuracy: 0.5525\n",
            "Epoch 10/20\n",
            "2871/2871 [==============================] - 10s 4ms/step - loss: 1.1750 - accuracy: 0.5527 - val_loss: 1.1793 - val_accuracy: 0.5525\n",
            "Epoch 11/20\n",
            "2871/2871 [==============================] - 10s 4ms/step - loss: 1.1542 - accuracy: 0.5612 - val_loss: 1.1835 - val_accuracy: 0.5545\n",
            "Epoch 12/20\n",
            "2871/2871 [==============================] - 10s 4ms/step - loss: 1.1316 - accuracy: 0.5627 - val_loss: 1.1873 - val_accuracy: 0.5520\n",
            "Epoch 13/20\n",
            "2871/2871 [==============================] - 10s 4ms/step - loss: 1.1272 - accuracy: 0.5663 - val_loss: 1.1736 - val_accuracy: 0.5620\n",
            "Epoch 14/20\n",
            "2871/2871 [==============================] - 10s 4ms/step - loss: 1.1031 - accuracy: 0.5773 - val_loss: 1.1512 - val_accuracy: 0.5548\n",
            "Epoch 15/20\n",
            "2871/2871 [==============================] - 10s 4ms/step - loss: 1.1101 - accuracy: 0.5746 - val_loss: 1.1705 - val_accuracy: 0.5575\n",
            "Epoch 16/20\n",
            "2871/2871 [==============================] - 10s 4ms/step - loss: 1.0781 - accuracy: 0.5876 - val_loss: 1.1515 - val_accuracy: 0.5653\n",
            "Epoch 17/20\n",
            "2871/2871 [==============================] - 10s 4ms/step - loss: 1.0760 - accuracy: 0.5902 - val_loss: 1.1726 - val_accuracy: 0.5589\n",
            "Epoch 18/20\n",
            "2871/2871 [==============================] - 10s 4ms/step - loss: 1.0531 - accuracy: 0.5970 - val_loss: 1.1694 - val_accuracy: 0.5631\n",
            "Epoch 19/20\n",
            "2871/2871 [==============================] - 10s 4ms/step - loss: 1.0556 - accuracy: 0.5958 - val_loss: 1.1885 - val_accuracy: 0.5667\n",
            "Epoch 20/20\n",
            "2871/2871 [==============================] - 10s 4ms/step - loss: 1.0396 - accuracy: 0.6012 - val_loss: 1.1797 - val_accuracy: 0.5609\n"
          ],
          "name": "stdout"
        }
      ]
    },
    {
      "cell_type": "markdown",
      "metadata": {
        "id": "a5BYypZlV7k5"
      },
      "source": [
        "Now going to increase the batch size and increase the epoch again."
      ]
    },
    {
      "cell_type": "code",
      "metadata": {
        "id": "B6HaI0PYV4ex"
      },
      "source": [
        "model=Sequential()\r\n",
        "model.add(Conv2D(32,(3,3),activation='relu',input_shape=X_train[0].shape))\r\n",
        "model.add(Conv2D(32,(3,3),activation='relu'))\r\n",
        "model.add(MaxPool2D(2,2))\r\n",
        "model.add(Dropout(0.25))\r\n",
        "\r\n",
        "model.add(Conv2D(64,(3,3),activation='relu'))\r\n",
        "model.add(Conv2D(64,(3,3),activation='relu'))\r\n",
        "model.add(MaxPool2D(2,2))\r\n",
        "model.add(Dropout(0.25))\r\n",
        "\r\n",
        "model.add(Flatten())\r\n",
        "model.add(Dense(128,activation='relu'))\r\n",
        "model.add(Dropout(0.5))\r\n",
        "model.add(Dense(7,activation='softmax'))\r\n",
        "\r\n"
      ],
      "execution_count": 53,
      "outputs": []
    },
    {
      "cell_type": "code",
      "metadata": {
        "id": "RbbFHp_UWDW_"
      },
      "source": [
        "model.compile(optimizer='adam',loss='sparse_categorical_crossentropy',metrics=['accuracy'])"
      ],
      "execution_count": 54,
      "outputs": []
    },
    {
      "cell_type": "code",
      "metadata": {
        "colab": {
          "base_uri": "https://localhost:8080/"
        },
        "id": "SjhTAjwwWa93",
        "outputId": "61eb7cd3-010b-4b08-d27c-4c0556997c07"
      },
      "source": [
        "hist=model.fit(X_train,y_train,batch_size=20,epochs=30,verbose=1,validation_data=(X_val,y_val))"
      ],
      "execution_count": 55,
      "outputs": [
        {
          "output_type": "stream",
          "text": [
            "Epoch 1/30\n",
            "1436/1436 [==============================] - 7s 5ms/step - loss: 1.7849 - accuracy: 0.2606 - val_loss: 1.5035 - val_accuracy: 0.4260\n",
            "Epoch 2/30\n",
            "1436/1436 [==============================] - 7s 5ms/step - loss: 1.5281 - accuracy: 0.4018 - val_loss: 1.3541 - val_accuracy: 0.4907\n",
            "Epoch 3/30\n",
            "1436/1436 [==============================] - 7s 5ms/step - loss: 1.3841 - accuracy: 0.4630 - val_loss: 1.2739 - val_accuracy: 0.5135\n",
            "Epoch 4/30\n",
            "1436/1436 [==============================] - 7s 5ms/step - loss: 1.3193 - accuracy: 0.4913 - val_loss: 1.2384 - val_accuracy: 0.5294\n",
            "Epoch 5/30\n",
            "1436/1436 [==============================] - 7s 5ms/step - loss: 1.2692 - accuracy: 0.5099 - val_loss: 1.2158 - val_accuracy: 0.5322\n",
            "Epoch 6/30\n",
            "1436/1436 [==============================] - 7s 5ms/step - loss: 1.2149 - accuracy: 0.5361 - val_loss: 1.1858 - val_accuracy: 0.5511\n",
            "Epoch 7/30\n",
            "1436/1436 [==============================] - 7s 5ms/step - loss: 1.1950 - accuracy: 0.5402 - val_loss: 1.1899 - val_accuracy: 0.5422\n",
            "Epoch 8/30\n",
            "1436/1436 [==============================] - 6s 5ms/step - loss: 1.1566 - accuracy: 0.5578 - val_loss: 1.1762 - val_accuracy: 0.5517\n",
            "Epoch 9/30\n",
            "1436/1436 [==============================] - 6s 5ms/step - loss: 1.1259 - accuracy: 0.5682 - val_loss: 1.1743 - val_accuracy: 0.5497\n",
            "Epoch 10/30\n",
            "1436/1436 [==============================] - 7s 5ms/step - loss: 1.1019 - accuracy: 0.5838 - val_loss: 1.1531 - val_accuracy: 0.5676\n",
            "Epoch 11/30\n",
            "1436/1436 [==============================] - 7s 5ms/step - loss: 1.0837 - accuracy: 0.5816 - val_loss: 1.1422 - val_accuracy: 0.5665\n",
            "Epoch 12/30\n",
            "1436/1436 [==============================] - 6s 5ms/step - loss: 1.0582 - accuracy: 0.5949 - val_loss: 1.1437 - val_accuracy: 0.5612\n",
            "Epoch 13/30\n",
            "1436/1436 [==============================] - 7s 5ms/step - loss: 1.0422 - accuracy: 0.6024 - val_loss: 1.1537 - val_accuracy: 0.5690\n",
            "Epoch 14/30\n",
            "1436/1436 [==============================] - 7s 5ms/step - loss: 1.0315 - accuracy: 0.6047 - val_loss: 1.1440 - val_accuracy: 0.5645\n",
            "Epoch 15/30\n",
            "1436/1436 [==============================] - 7s 5ms/step - loss: 1.0243 - accuracy: 0.6112 - val_loss: 1.1423 - val_accuracy: 0.5754\n",
            "Epoch 16/30\n",
            "1436/1436 [==============================] - 6s 5ms/step - loss: 1.0025 - accuracy: 0.6154 - val_loss: 1.1384 - val_accuracy: 0.5706\n",
            "Epoch 17/30\n",
            "1436/1436 [==============================] - 6s 4ms/step - loss: 0.9912 - accuracy: 0.6241 - val_loss: 1.1570 - val_accuracy: 0.5695\n",
            "Epoch 18/30\n",
            "1436/1436 [==============================] - 6s 4ms/step - loss: 0.9771 - accuracy: 0.6252 - val_loss: 1.1708 - val_accuracy: 0.5706\n",
            "Epoch 19/30\n",
            "1436/1436 [==============================] - 7s 5ms/step - loss: 0.9602 - accuracy: 0.6338 - val_loss: 1.1640 - val_accuracy: 0.5626\n",
            "Epoch 20/30\n",
            "1436/1436 [==============================] - 6s 5ms/step - loss: 0.9486 - accuracy: 0.6380 - val_loss: 1.1598 - val_accuracy: 0.5659\n",
            "Epoch 21/30\n",
            "1436/1436 [==============================] - 6s 4ms/step - loss: 0.9350 - accuracy: 0.6408 - val_loss: 1.1564 - val_accuracy: 0.5712\n",
            "Epoch 22/30\n",
            "1436/1436 [==============================] - 6s 4ms/step - loss: 0.9249 - accuracy: 0.6432 - val_loss: 1.1809 - val_accuracy: 0.5782\n",
            "Epoch 23/30\n",
            "1436/1436 [==============================] - 6s 5ms/step - loss: 0.9029 - accuracy: 0.6535 - val_loss: 1.1824 - val_accuracy: 0.5665\n",
            "Epoch 24/30\n",
            "1436/1436 [==============================] - 7s 5ms/step - loss: 0.8884 - accuracy: 0.6590 - val_loss: 1.1651 - val_accuracy: 0.5614\n",
            "Epoch 25/30\n",
            "1436/1436 [==============================] - 7s 5ms/step - loss: 0.9052 - accuracy: 0.6543 - val_loss: 1.1970 - val_accuracy: 0.5684\n",
            "Epoch 26/30\n",
            "1436/1436 [==============================] - 7s 5ms/step - loss: 0.8820 - accuracy: 0.6633 - val_loss: 1.1903 - val_accuracy: 0.5743\n",
            "Epoch 27/30\n",
            "1436/1436 [==============================] - 7s 5ms/step - loss: 0.8788 - accuracy: 0.6621 - val_loss: 1.1813 - val_accuracy: 0.5798\n",
            "Epoch 28/30\n",
            "1436/1436 [==============================] - 6s 5ms/step - loss: 0.8680 - accuracy: 0.6681 - val_loss: 1.1930 - val_accuracy: 0.5743\n",
            "Epoch 29/30\n",
            "1436/1436 [==============================] - 6s 5ms/step - loss: 0.8465 - accuracy: 0.6770 - val_loss: 1.1841 - val_accuracy: 0.5815\n",
            "Epoch 30/30\n",
            "1436/1436 [==============================] - 6s 5ms/step - loss: 0.8467 - accuracy: 0.6786 - val_loss: 1.2059 - val_accuracy: 0.5851\n"
          ],
          "name": "stdout"
        }
      ]
    },
    {
      "cell_type": "code",
      "metadata": {
        "colab": {
          "base_uri": "https://localhost:8080/",
          "height": 573
        },
        "id": "gyRTH4tsXS-M",
        "outputId": "dfaa5bbd-7e00-4ed3-bff6-be693d57179e"
      },
      "source": [
        "plt.title('Model Accuracy')\r\n",
        "plt.plot(range(1,31),hist.history['accuracy'])\r\n",
        "plt.plot(range(1,31),hist.history['val_accuracy'])\r\n",
        "plt.xlabel('Epoch')\r\n",
        "plt.ylabel('accuracy')\r\n",
        "plt.legend(labels=['train','validation'])\r\n",
        "plt.show()\r\n",
        "\r\n",
        "plt.title('Model Loss')\r\n",
        "plt.plot(range(1,31),hist.history['loss'])\r\n",
        "plt.plot(range(1,31),hist.history['val_loss'])\r\n",
        "plt.xlabel('Epoch')\r\n",
        "plt.ylabel('loss')\r\n",
        "plt.legend(labels=['train','validation'])\r\n",
        "plt.show()"
      ],
      "execution_count": 56,
      "outputs": [
        {
          "output_type": "display_data",
          "data": {
            "image/png": "[encoded data removed]",
            "text/plain": [
              "<Figure size 432x288 with 1 Axes>"
            ]
          },
          "metadata": {
            "tags": [],
            "needs_background": "light"
          }
        },
        {
          "output_type": "display_data",
          "data": {
            "image/png": "[encoded data removed]",
            "text/plain": [
              "<Figure size 432x288 with 1 Axes>"
            ]
          },
          "metadata": {
            "tags": [],
            "needs_background": "light"
          }
        }
      ]
    },
    {
      "cell_type": "markdown",
      "metadata": {
        "id": "BBq6-NuNXrYh"
      },
      "source": [
        "The model is slightly overfitted with the train."
      ]
    },
    {
      "cell_type": "markdown",
      "metadata": {
        "id": "d2EIyh4uXwel"
      },
      "source": [
        "# Deployment on the hidden test:\r\n",
        "---\r\n",
        "\r\n"
      ]
    },
    {
      "cell_type": "code",
      "metadata": {
        "colab": {
          "base_uri": "https://localhost:8080/"
        },
        "id": "qubQ_RjvX8RF",
        "outputId": "fb74a96c-5c32-4d90-e588-030ab6e3f7bb"
      },
      "source": [
        "prediction=model.predict(X_test)\r\n",
        "\r\n",
        "y_pred=[]\r\n",
        "for i in range(len(prediction)):\r\n",
        "  y_pred.append(np.argmax(prediction[i]))\r\n",
        "\r\n",
        "print('acuuracy on the hidden test :',accuracy_score(y_test,y_pred))"
      ],
      "execution_count": 57,
      "outputs": [
        {
          "output_type": "stream",
          "text": [
            "acuuracy on the hidden test : 0.5756478127612148\n"
          ],
          "name": "stdout"
        }
      ]
    },
    {
      "cell_type": "markdown",
      "metadata": {
        "id": "1C-pFfsDYVfq"
      },
      "source": [
        "The accuracy is not much . still we have an approximately well tuned data."
      ]
    },
    {
      "cell_type": "code",
      "metadata": {
        "colab": {
          "base_uri": "https://localhost:8080/",
          "height": 1000
        },
        "id": "U2MGXQlM5fT3",
        "outputId": "2f9a29ef-dbe9-426b-cc93-f9065ebccb50"
      },
      "source": [
        "\r\n",
        "for i in range(10):\r\n",
        "  print('\\n\\nPredicted Expression ',decoder[y_pred[i]])\r\n",
        "  plt.imshow(X_test[i].reshape(48,48))\r\n",
        "  plt.show()"
      ],
      "execution_count": 62,
      "outputs": [
        {
          "output_type": "stream",
          "text": [
            "\n",
            "\n",
            "Predicted Expression  surprise\n"
          ],
          "name": "stdout"
        },
        {
          "output_type": "display_data",
          "data": {
            "image/png": "[encoded data removed]",
            "text/plain": [
              "<Figure size 432x288 with 1 Axes>"
            ]
          },
          "metadata": {
            "tags": [],
            "needs_background": "light"
          }
        },
        {
          "output_type": "stream",
          "text": [
            "\n",
            "\n",
            "Predicted Expression  neutral\n"
          ],
          "name": "stdout"
        },
        {
          "output_type": "display_data",
          "data": {
            "image/png": "[encoded data removed]",
            "text/plain": [
              "<Figure size 432x288 with 1 Axes>"
            ]
          },
          "metadata": {
            "tags": [],
            "needs_background": "light"
          }
        },
        {
          "output_type": "stream",
          "text": [
            "\n",
            "\n",
            "Predicted Expression  anger\n"
          ],
          "name": "stdout"
        },
        {
          "output_type": "display_data",
          "data": {
            "image/png": "[encoded data removed]",
            "text/plain": [
              "<Figure size 432x288 with 1 Axes>"
            ]
          },
          "metadata": {
            "tags": [],
            "needs_background": "light"
          }
        },
        {
          "output_type": "stream",
          "text": [
            "\n",
            "\n",
            "Predicted Expression  neutral\n"
          ],
          "name": "stdout"
        },
        {
          "output_type": "display_data",
          "data": {
            "image/png": "[encoded data removed]",
            "text/plain": [
              "<Figure size 432x288 with 1 Axes>"
            ]
          },
          "metadata": {
            "tags": [],
            "needs_background": "light"
          }
        },
        {
          "output_type": "stream",
          "text": [
            "\n",
            "\n",
            "Predicted Expression  neutral\n"
          ],
          "name": "stdout"
        },
        {
          "output_type": "display_data",
          "data": {
            "image/png": "[encoded data removed]",
            "text/plain": [
              "<Figure size 432x288 with 1 Axes>"
            ]
          },
          "metadata": {
            "tags": [],
            "needs_background": "light"
          }
        },
        {
          "output_type": "stream",
          "text": [
            "\n",
            "\n",
            "Predicted Expression  anger\n"
          ],
          "name": "stdout"
        },
        {
          "output_type": "display_data",
          "data": {
            "image/png": "[encoded data removed]",
            "text/plain": [
              "<Figure size 432x288 with 1 Axes>"
            ]
          },
          "metadata": {
            "tags": [],
            "needs_background": "light"
          }
        },
        {
          "output_type": "stream",
          "text": [
            "\n",
            "\n",
            "Predicted Expression  neutral\n"
          ],
          "name": "stdout"
        },
        {
          "output_type": "display_data",
          "data": {
            "image/png": "[encoded data removed]",
            "text/plain": [
              "<Figure size 432x288 with 1 Axes>"
            ]
          },
          "metadata": {
            "tags": [],
            "needs_background": "light"
          }
        },
        {
          "output_type": "stream",
          "text": [
            "\n",
            "\n",
            "Predicted Expression  happiness\n"
          ],
          "name": "stdout"
        },
        {
          "output_type": "display_data",
          "data": {
            "image/png": "[encoded data removed]",
            "text/plain": [
              "<Figure size 432x288 with 1 Axes>"
            ]
          },
          "metadata": {
            "tags": [],
            "needs_background": "light"
          }
        },
        {
          "output_type": "stream",
          "text": [
            "\n",
            "\n",
            "Predicted Expression  fear\n"
          ],
          "name": "stdout"
        },
        {
          "output_type": "display_data",
          "data": {
            "image/png": "[encoded data removed]",
            "text/plain": [
              "<Figure size 432x288 with 1 Axes>"
            ]
          },
          "metadata": {
            "tags": [],
            "needs_background": "light"
          }
        },
        {
          "output_type": "stream",
          "text": [
            "\n",
            "\n",
            "Predicted Expression  happiness\n"
          ],
          "name": "stdout"
        },
        {
          "output_type": "display_data",
          "data": {
            "image/png": "[encoded data removed]",
            "text/plain": [
              "<Figure size 432x288 with 1 Axes>"
            ]
          },
          "metadata": {
            "tags": [],
            "needs_background": "light"
          }
        }
      ]
    },
    {
      "cell_type": "markdown",
      "metadata": {
        "id": "TbSJt2j3a_Ye"
      },
      "source": [
        "Plotting Confusion Matrix :\r\n",
        "---"
      ]
    },
    {
      "cell_type": "code",
      "metadata": {
        "colab": {
          "base_uri": "https://localhost:8080/",
          "height": 279
        },
        "id": "UZNflRGYbC80",
        "outputId": "4740b1ff-789b-4835-f5cf-41a49e140c70"
      },
      "source": [
        "mat=confusion_matrix(y_test,y_pred)\r\n",
        "plot_confusion_matrix(mat,colorbar=True)\r\n",
        "plt.show()"
      ],
      "execution_count": 63,
      "outputs": [
        {
          "output_type": "display_data",
          "data": {
            "image/png": "[encoded data removed]",
            "text/plain": [
              "<Figure size 432x288 with 2 Axes>"
            ]
          },
          "metadata": {
            "tags": [],
            "needs_background": "light"
          }
        }
      ]
    },
    {
      "cell_type": "code",
      "metadata": {
        "colab": {
          "base_uri": "https://localhost:8080/",
          "height": 204
        },
        "id": "6DMDCvB9aytd",
        "outputId": "8bea0483-6614-4d46-e9c0-dc57863ee4fc"
      },
      "source": [
        "sample_submission=pd.read_csv('Submission.csv')\r\n",
        "sample_submission.head(5)"
      ],
      "execution_count": 64,
      "outputs": [
        {
          "output_type": "execute_result",
          "data": {
            "text/html": [
              "<div>\n",
              "<style scoped>\n",
              "    .dataframe tbody tr th:only-of-type {\n",
              "        vertical-align: middle;\n",
              "    }\n",
              "\n",
              "    .dataframe tbody tr th {\n",
              "        vertical-align: top;\n",
              "    }\n",
              "\n",
              "    .dataframe thead th {\n",
              "        text-align: right;\n",
              "    }\n",
              "</style>\n",
              "<table border=\"1\" class=\"dataframe\">\n",
              "  <thead>\n",
              "    <tr style=\"text-align: right;\">\n",
              "      <th></th>\n",
              "      <th>3</th>\n",
              "    </tr>\n",
              "  </thead>\n",
              "  <tbody>\n",
              "    <tr>\n",
              "      <th>0</th>\n",
              "      <td>4</td>\n",
              "    </tr>\n",
              "    <tr>\n",
              "      <th>1</th>\n",
              "      <td>0</td>\n",
              "    </tr>\n",
              "    <tr>\n",
              "      <th>2</th>\n",
              "      <td>4</td>\n",
              "    </tr>\n",
              "    <tr>\n",
              "      <th>3</th>\n",
              "      <td>3</td>\n",
              "    </tr>\n",
              "    <tr>\n",
              "      <th>4</th>\n",
              "      <td>3</td>\n",
              "    </tr>\n",
              "  </tbody>\n",
              "</table>\n",
              "</div>"
            ],
            "text/plain": [
              "   3\n",
              "0  4\n",
              "1  0\n",
              "2  4\n",
              "3  3\n",
              "4  3"
            ]
          },
          "metadata": {
            "tags": []
          },
          "execution_count": 64
        }
      ]
    },
    {
      "cell_type": "markdown",
      "metadata": {
        "id": "LcYy0aUvbQhz"
      },
      "source": [
        "Creating final submission :\r\n",
        "---"
      ]
    },
    {
      "cell_type": "code",
      "metadata": {
        "id": "3PSj6ppxbPHM"
      },
      "source": [
        "final_submission=pd.DataFrame({'3':y_pred})\r\n",
        "final_submission.to_csv('final_submission.csv',index=False)"
      ],
      "execution_count": 65,
      "outputs": []
    },
    {
      "cell_type": "code",
      "metadata": {
        "colab": {
          "base_uri": "https://localhost:8080/",
          "height": 204
        },
        "id": "GknJIwi5buId",
        "outputId": "3b38a919-2220-4a97-c954-981bf65dc08d"
      },
      "source": [
        "final_submission.head()"
      ],
      "execution_count": 66,
      "outputs": [
        {
          "output_type": "execute_result",
          "data": {
            "text/html": [
              "<div>\n",
              "<style scoped>\n",
              "    .dataframe tbody tr th:only-of-type {\n",
              "        vertical-align: middle;\n",
              "    }\n",
              "\n",
              "    .dataframe tbody tr th {\n",
              "        vertical-align: top;\n",
              "    }\n",
              "\n",
              "    .dataframe thead th {\n",
              "        text-align: right;\n",
              "    }\n",
              "</style>\n",
              "<table border=\"1\" class=\"dataframe\">\n",
              "  <thead>\n",
              "    <tr style=\"text-align: right;\">\n",
              "      <th></th>\n",
              "      <th>3</th>\n",
              "    </tr>\n",
              "  </thead>\n",
              "  <tbody>\n",
              "    <tr>\n",
              "      <th>0</th>\n",
              "      <td>6</td>\n",
              "    </tr>\n",
              "    <tr>\n",
              "      <th>1</th>\n",
              "      <td>4</td>\n",
              "    </tr>\n",
              "    <tr>\n",
              "      <th>2</th>\n",
              "      <td>0</td>\n",
              "    </tr>\n",
              "    <tr>\n",
              "      <th>3</th>\n",
              "      <td>4</td>\n",
              "    </tr>\n",
              "    <tr>\n",
              "      <th>4</th>\n",
              "      <td>4</td>\n",
              "    </tr>\n",
              "  </tbody>\n",
              "</table>\n",
              "</div>"
            ],
            "text/plain": [
              "   3\n",
              "0  6\n",
              "1  4\n",
              "2  0\n",
              "3  4\n",
              "4  4"
            ]
          },
          "metadata": {
            "tags": []
          },
          "execution_count": 66
        }
      ]
    },
    {
      "cell_type": "markdown",
      "metadata": {
        "id": "1YiZxS2XbxdF"
      },
      "source": [
        "It is in right format. "
      ]
    },
    {
      "cell_type": "markdown",
      "metadata": {
        "id": "hSty1J3_b0gh"
      },
      "source": [
        "# THE END :)"
      ]
    },
    {
      "cell_type": "code",
      "metadata": {
        "id": "NzZb21c0-Rau"
      },
      "source": [
        ""
      ],
      "execution_count": null,
      "outputs": []
    }
  ]
}